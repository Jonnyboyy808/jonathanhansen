{
 "cells": [
  {
   "cell_type": "code",
   "execution_count": 1,
   "metadata": {},
   "outputs": [],
   "source": [
    "#project: p6\n",
    "#submitter: jlatour\n",
    "#partner: jmhansen7"
   ]
  },
  {
   "cell_type": "code",
   "execution_count": 2,
   "metadata": {},
   "outputs": [],
   "source": [
    "import csv\n",
    "\n",
    "# copied from https://automatetheboringstuff.com/chapter14/\n",
    "def process_csv(filename):\n",
    "    exampleFile = open(filename, encoding=\"utf-8\")\n",
    "    exampleReader = csv.reader(exampleFile)\n",
    "    exampleData = list(exampleReader)\n",
    "    exampleFile.close()\n",
    "    return exampleData\n",
    "\n",
    "# use process_csv to pull out the header and data rows\n",
    "csv_rows = process_csv(\"wine.csv\")\n",
    "csv_header = csv_rows[0]\n",
    "csv_data = csv_rows[1:]\n",
    "\n"
   ]
  },
  {
   "cell_type": "code",
   "execution_count": 3,
   "metadata": {},
   "outputs": [],
   "source": [
    "def cell(row_idx, col_name):\n",
    "    col_idx = csv_header.index(col_name)\n",
    "    val = csv_data[row_idx][col_idx]\n",
    "    if val == \"\":\n",
    "        return None\n",
    "    elif col_idx == 1:\n",
    "        return int(val)\n",
    "    elif col_idx == 2:\n",
    "        return float(val)\n",
    "    elif col_idx >= 3:\n",
    "        return str(val)\n",
    "    return val"
   ]
  },
  {
   "cell_type": "code",
   "execution_count": 4,
   "metadata": {},
   "outputs": [
    {
     "data": {
      "text/plain": [
       "['Germany',\n",
       " 'Italy',\n",
       " 'Canada',\n",
       " 'India',\n",
       " 'Chile',\n",
       " 'Bulgaria',\n",
       " 'Moldova',\n",
       " 'Spain',\n",
       " 'Australia',\n",
       " 'Morocco',\n",
       " 'Portugal',\n",
       " 'Croatia',\n",
       " 'South Africa',\n",
       " 'US',\n",
       " 'France',\n",
       " 'Slovenia',\n",
       " 'Austria',\n",
       " 'Argentina',\n",
       " 'Greece',\n",
       " 'Israel',\n",
       " 'Romania',\n",
       " 'New Zealand',\n",
       " 'Hungary']"
      ]
     },
     "execution_count": 4,
     "metadata": {},
     "output_type": "execute_result"
    }
   ],
   "source": [
    "#q1\n",
    "\n",
    "list_of_all_countries = []\n",
    "\n",
    "for i in range(len(csv_data)):\n",
    "    if not cell(i, \"country\") == None:\n",
    "        list_of_all_countries.append((cell(i, \"country\")))\n",
    "    \n",
    "new_list = list(set(list_of_all_countries))\n",
    "new_list\n"
   ]
  },
  {
   "cell_type": "code",
   "execution_count": 5,
   "metadata": {},
   "outputs": [
    {
     "data": {
      "text/plain": [
       "89.65489673550967"
      ]
     },
     "execution_count": 5,
     "metadata": {},
     "output_type": "execute_result"
    }
   ],
   "source": [
    "#q2\n",
    "av_wine_points = []\n",
    "\n",
    "for i in range(len(csv_data)):\n",
    "    if not cell(i,\"points\") == None:\n",
    "        av_wine_points.append(cell(i,\"points\"))\n",
    "\n",
    "end_list = list(av_wine_points)\n",
    "end_list\n",
    "sum(av_wine_points) / len(av_wine_points)\n"
   ]
  },
  {
   "cell_type": "code",
   "execution_count": 6,
   "metadata": {},
   "outputs": [
    {
     "data": {
      "text/plain": [
       "['Essay',\n",
       " 'Graham Beck',\n",
       " 'Vergelegen',\n",
       " 'Neil Ellis',\n",
       " 'Bouchard Finlayson',\n",
       " 'Long Neck',\n",
       " 'Waterkloof',\n",
       " 'KWV',\n",
       " 'Fat Barrel',\n",
       " 'Noble Hill',\n",
       " 'Robertson Winery']"
      ]
     },
     "execution_count": 6,
     "metadata": {},
     "output_type": "execute_result"
    }
   ],
   "source": [
    "#q3\n",
    "wine_list = []\n",
    "\n",
    "for i in range(len(csv_data)):\n",
    "    if cell(i, \"country\") == \"South Africa\":\n",
    "        wine_list.append((cell(i,\"winery\")))\n",
    "        \n",
    "wine_in_sa = list(set(wine_list))\n",
    "wine_in_sa\n"
   ]
  },
  {
   "cell_type": "code",
   "execution_count": 7,
   "metadata": {},
   "outputs": [
    {
     "data": {
      "text/plain": [
       "['Rhône-style White Blend', 'Syrah', 'White Blend', 'Chardonnay']"
      ]
     },
     "execution_count": 7,
     "metadata": {},
     "output_type": "execute_result"
    }
   ],
   "source": [
    "#q4\n",
    "\n",
    "caramelized_phrase = []\n",
    "for i in range(len(csv_data)):\n",
    "    if \"caramelized\" in cell(i, \"description\"):\n",
    "        caramelized_phrase.append(cell(i,\"variety\"))\n",
    "    elif \"Caramelized\" in cell(i, \"description\"):\n",
    "        caramelized_phrase.append(cell(i,\"variety\"))\n",
    "\n",
    "        \n",
    "new_caramelized_phrase = list(set(caramelized_phrase))\n",
    "new_caramelized_phrase\n",
    "    "
   ]
  },
  {
   "cell_type": "code",
   "execution_count": 8,
   "metadata": {},
   "outputs": [
    {
     "data": {
      "text/plain": [
       "['Sparkling Blend', 'Pinot Grigio', 'Chardonnay']"
      ]
     },
     "execution_count": 8,
     "metadata": {},
     "output_type": "execute_result"
    }
   ],
   "source": [
    "#q5\n",
    "lemon_lime_phrase = []\n",
    "for i in range(len(csv_data)):\n",
    "    if \"lemon-lime soda\" in cell(i, \"description\"):\n",
    "        lemon_lime_phrase.append(cell(i,\"variety\"))\n",
    "    elif \"Lemon-lime soda\" in cell(i, \"description\"):\n",
    "        lemon_lime_phrase.append(cell(i,\"variety\"))\n",
    "\n",
    "        \n",
    "new_lemon_lime_phrase = list(set(lemon_lime_phrase))\n",
    "new_lemon_lime_phrase"
   ]
  },
  {
   "cell_type": "code",
   "execution_count": 9,
   "metadata": {},
   "outputs": [
    {
     "data": {
      "text/plain": [
       "['Rosé', 'Cabernet Sauvignon', 'Nebbiolo']"
      ]
     },
     "execution_count": 9,
     "metadata": {},
     "output_type": "execute_result"
    }
   ],
   "source": [
    "#q6\n",
    "cherry_berry_phrase = []\n",
    "for i in range(len(csv_data)):\n",
    "    if \"cherry-berry\" in cell(i, \"description\"):\n",
    "        cherry_berry_phrase.append(cell(i,\"variety\"))\n",
    "    elif \"Cherry-berry\" in cell(i, \"description\"):\n",
    "        cherry_berry_phrase.append(cell(i,\"variety\"))\n",
    "\n",
    "        \n",
    "new_cherry_berry_phrase = list(set(cherry_berry_phrase))\n",
    "new_cherry_berry_phrase"
   ]
  },
  {
   "cell_type": "code",
   "execution_count": 10,
   "metadata": {},
   "outputs": [],
   "source": [
    "def sort_strip(word):\n",
    "    cut = word.replace(\" \",\"\").lower()\n",
    "    sort = sorted(cut)\n",
    "    return sort"
   ]
  },
  {
   "cell_type": "code",
   "execution_count": 11,
   "metadata": {},
   "outputs": [
    {
     "data": {
      "text/plain": [
       "['Cabernet Sauvignon']"
      ]
     },
     "execution_count": 11,
     "metadata": {},
     "output_type": "execute_result"
    }
   ],
   "source": [
    "#q7\n",
    "anagrams_list = []\n",
    "\n",
    "for i in range(len(csv_data)):\n",
    "    if sort_strip(cell(i, \"variety\")) == sort_strip(\"antibus governance\"):\n",
    "        anagrams_list.append(cell(i, \"variety\"))\n",
    "        \n",
    "answer_anagrams_list = list(set(anagrams_list))\n",
    "answer_anagrams_list"
   ]
  },
  {
   "cell_type": "code",
   "execution_count": 12,
   "metadata": {},
   "outputs": [
    {
     "data": {
      "text/plain": [
       "['Tempranillo Blend']"
      ]
     },
     "execution_count": 12,
     "metadata": {},
     "output_type": "execute_result"
    }
   ],
   "source": [
    "#q8\n",
    "anagrams8_list = []\n",
    "\n",
    "for i in range(len(csv_data)):\n",
    "    if sort_strip(cell(i, \"variety\")) == sort_strip(\"Banned Petrol Mill\"):\n",
    "        anagrams8_list.append(cell(i, \"variety\"))\n",
    "        \n",
    "answer8_anagrams_list = list(set(anagrams8_list))\n",
    "answer8_anagrams_list"
   ]
  },
  {
   "cell_type": "code",
   "execution_count": 13,
   "metadata": {},
   "outputs": [],
   "source": [
    "def cell(row_idx, col_name):\n",
    "    col_idx = csv_header.index(col_name)\n",
    "    val = csv_data[row_idx][col_idx]\n",
    "    if val == \"\":\n",
    "        return 0\n",
    "    elif col_idx == 1:\n",
    "        return int(val)\n",
    "    elif col_idx == 2:\n",
    "        return float(val)\n",
    "    elif col_idx >= 3:\n",
    "        return str(val)\n",
    "    return val"
   ]
  },
  {
   "cell_type": "code",
   "execution_count": 14,
   "metadata": {},
   "outputs": [],
   "source": [
    "\n",
    "\n",
    "\n",
    "\n",
    "\n",
    "def winery_of_priced_wine():\n",
    "    highest_price = 0\n",
    "    for i in range(len(csv_data)):\n",
    "        if cell(i, \"country\") == \"US\":\n",
    "            davis = cell(i, \"price\") \n",
    "            if davis > highest_price:\n",
    "                highest_price = cell(i, \"price\")\n",
    "            \n",
    "    return highest_price\n",
    "        \n",
    "\n",
    "            \n",
    "max_price = winery_of_priced_wine()"
   ]
  },
  {
   "cell_type": "code",
   "execution_count": 15,
   "metadata": {},
   "outputs": [
    {
     "data": {
      "text/plain": [
       "['Hall']"
      ]
     },
     "execution_count": 15,
     "metadata": {},
     "output_type": "execute_result"
    }
   ],
   "source": [
    "#q9\n",
    "list_of_prices_in_us = []\n",
    "for i in range(len(csv_data)):\n",
    "    if cell(i, \"country\") == \"US\":\n",
    "        davis = cell(i,\"price\")\n",
    "        if davis == max_price:\n",
    "            list_of_prices_in_us.append(cell(i, \"winery\"))\n",
    "            \n",
    "new_list9 = list(set(list_of_prices_in_us))\n",
    "new_list9"
   ]
  },
  {
   "cell_type": "code",
   "execution_count": 16,
   "metadata": {},
   "outputs": [],
   "source": [
    "def highest_rating_of_wine():\n",
    "    highest_rating = 0\n",
    "    for i in range(len(csv_data)):\n",
    "        if cell(i,\"country\") == \"France\":\n",
    "            new_davis = cell(i, \"points\")\n",
    "            if new_davis > highest_rating:\n",
    "                highest_rating = cell(i, \"points\")\n",
    "                \n",
    "    return highest_rating\n",
    "\n",
    "max_rating = highest_rating_of_wine()\n",
    "            \n"
   ]
  },
  {
   "cell_type": "code",
   "execution_count": 17,
   "metadata": {},
   "outputs": [
    {
     "data": {
      "text/plain": [
       "['Tannat', 'Provence red blend', 'Malbec']"
      ]
     },
     "execution_count": 17,
     "metadata": {},
     "output_type": "execute_result"
    }
   ],
   "source": [
    "#q10\n",
    "list_of_prices_in_france = []\n",
    "for i in range(len(csv_data)):\n",
    "    if cell(i, \"country\") == \"France\":\n",
    "        new_davis = cell(i,\"points\")\n",
    "        if new_davis == max_rating:\n",
    "            list_of_prices_in_france.append(cell(i, \"variety\"))\n",
    "            \n",
    "new_list_france = list(set(list_of_prices_in_france))\n",
    "new_list_france"
   ]
  },
  {
   "cell_type": "code",
   "execution_count": 18,
   "metadata": {},
   "outputs": [
    {
     "data": {
      "text/plain": [
       "1.288074888074888"
      ]
     },
     "execution_count": 18,
     "metadata": {},
     "output_type": "execute_result"
    }
   ],
   "source": [
    "#q11\n",
    "def ratio(winery):\n",
    "    ppd = []\n",
    "    for i in range(len(csv_data)):\n",
    "        if cell(i, \"winery\") == winery:\n",
    "            wine_points = cell(i, \"points\")\n",
    "            wine_price = cell(i, \"price\")\n",
    "            ppd.append(wine_points/wine_price)\n",
    "            \n",
    "    for i in range(len(csv_data)):\n",
    "        if cell(i, \"winery\") == winery:\n",
    "            return ((sum(ppd)) / (len(ppd)))\n",
    "\n",
    "ratio(\"Ponzi\")"
   ]
  },
  {
   "cell_type": "code",
   "execution_count": 19,
   "metadata": {},
   "outputs": [
    {
     "data": {
      "text/plain": [
       "1.3628968253968254"
      ]
     },
     "execution_count": 19,
     "metadata": {},
     "output_type": "execute_result"
    }
   ],
   "source": [
    "#q12\n",
    "ratio(\"Blue Farm\")"
   ]
  },
  {
   "cell_type": "code",
   "execution_count": 20,
   "metadata": {},
   "outputs": [
    {
     "name": "stdout",
     "output_type": "stream",
     "text": [
      "['Felton Road', 'Spy Valley', 'Kumeu River']\n",
      "[2.325, 2.8181818181818183, 1.7733282481566235]\n",
      "[2]\n"
     ]
    },
    {
     "data": {
      "text/plain": [
       "'Kumeu River'"
      ]
     },
     "execution_count": 20,
     "metadata": {},
     "output_type": "execute_result"
    }
   ],
   "source": [
    "#q13\n",
    "\n",
    "def country_average(country):\n",
    "    wineries = []\n",
    "    for i in range (len(csv_data)):\n",
    "        if cell (i, \"country\") == country:\n",
    "            wineries.append(cell(i, \"winery\"))\n",
    "    wineries = list(set(wineries))\n",
    "    all_wineries_ppd = []\n",
    "    for i in wineries:\n",
    "        #print(i)\n",
    "        all_wineries_ppd.append(ratio(i))\n",
    "    print(wineries)\n",
    "    print(all_wineries_ppd)\n",
    "    \n",
    "    lowest_winery = 999\n",
    "    lowest_i = []\n",
    "    for i in range(len(all_wineries_ppd)):\n",
    "        if all_wineries_ppd[i] < lowest_winery:\n",
    "            lowest_i = []\n",
    "            lowest_winery = all_wineries_ppd[i]\n",
    "            lowest_i.append(i)\n",
    "        elif all_wineries_ppd[i] == lowest_winery:\n",
    "            lowest_winery = all_wineries_ppd[i]\n",
    "            lowest_i.append(i)\n",
    "    print(lowest_i)\n",
    "    if len(lowest_i) == 1:\n",
    "        return wineries[lowest_i[0]]\n",
    "    else:        \n",
    "        lowest_wineries = []\n",
    "        for i in range(len(lowest_i)):\n",
    "            lowest_wineries.append(wineries[lowest_i[i]])\n",
    "        return lowest_wineries\n",
    "\n",
    "country_average(\"New Zealand\")"
   ]
  },
  {
   "cell_type": "code",
   "execution_count": 21,
   "metadata": {},
   "outputs": [
    {
     "name": "stdout",
     "output_type": "stream",
     "text": [
      "['Giant Steps', 'Riposte', 'Dalrymple', 'Heggies Vineyard', 'Moorooduc', \"D'Arenberg\"]\n",
      "[2.0952380952380953, 4.5, 1.3846153846153846, 3.52, 2.5277777777777777, 1.3846153846153846]\n",
      "[2, 5]\n"
     ]
    },
    {
     "data": {
      "text/plain": [
       "['Dalrymple', \"D'Arenberg\"]"
      ]
     },
     "execution_count": 21,
     "metadata": {},
     "output_type": "execute_result"
    }
   ],
   "source": [
    "#q14\n",
    "country_average(\"Australia\")"
   ]
  },
  {
   "cell_type": "code",
   "execution_count": 22,
   "metadata": {},
   "outputs": [
    {
     "name": "stdout",
     "output_type": "stream",
     "text": [
      "['Burrowing Owl', 'Tinhorn Creek', 'Cave Spring', 'Mission Hill']\n",
      "[2.3684210526315788, 4.7368421052631575, 5.411764705882353, 2.517857142857143]\n",
      "[0]\n"
     ]
    },
    {
     "data": {
      "text/plain": [
       "'Burrowing Owl'"
      ]
     },
     "execution_count": 22,
     "metadata": {},
     "output_type": "execute_result"
    }
   ],
   "source": [
    "#q15\n",
    "country_average(\"Canada\")"
   ]
  },
  {
   "cell_type": "code",
   "execution_count": 23,
   "metadata": {},
   "outputs": [
    {
     "data": {
      "text/plain": [
       "['Touriga Nacional', 'Portuguese Red', 'Portuguese Sparkling']"
      ]
     },
     "execution_count": 23,
     "metadata": {},
     "output_type": "execute_result"
    }
   ],
   "source": [
    "#q16\n",
    "\n",
    "produced_by_global_wines = []\n",
    "\n",
    "for i in range(len(csv_data)):\n",
    "    if cell(i, \"winery\") == \"Global Wines\":\n",
    "        produced_by_global_wines.append(cell(i,\"variety\"))\n",
    "        \n",
    "final_list = list(set(produced_by_global_wines))\n",
    "final_list"
   ]
  },
  {
   "cell_type": "code",
   "execution_count": 24,
   "metadata": {},
   "outputs": [
    {
     "data": {
      "text/plain": [
       "['Portuguese White', 'Portuguese Rosé', 'Portuguese Red']"
      ]
     },
     "execution_count": 24,
     "metadata": {},
     "output_type": "execute_result"
    }
   ],
   "source": [
    "#q17\n",
    "produced_by_quinta_nova = []\n",
    "\n",
    "for i in range(len(csv_data)):\n",
    "    if cell(i, \"winery\") == \"Quinta Nova de Nossa Senhora do Carmo\":\n",
    "        produced_by_quinta_nova.append(cell(i,\"variety\"))\n",
    "        \n",
    "quinta_list = list(set(produced_by_quinta_nova))\n",
    "quinta_list"
   ]
  },
  {
   "cell_type": "code",
   "execution_count": 25,
   "metadata": {},
   "outputs": [
    {
     "data": {
      "text/plain": [
       "33.33333333333333"
      ]
     },
     "execution_count": 25,
     "metadata": {},
     "output_type": "execute_result"
    }
   ],
   "source": [
    "#q18\n",
    "final_list_dict = {\"first1\":'Portuguese Red', \"second1\":'Portuguese Sparkling', \"third1\":'Touriga Nacional'}\n",
    "quinta_list_dict = {\"first2\":'Portuguese Red', \"second2\":'Portuguese White', \"third2\":'Portuguese Rosé'}\n",
    "\n",
    "\n",
    "\n",
    "def the_same_varieties_of_first():\n",
    "    i = 0\n",
    "    if final_list_dict[\"first1\"] == quinta_list_dict[\"first2\"]:\n",
    "        i += 1\n",
    "    elif final_list_dict[\"first1\"] == quinta_list_dict[\"second2\"]:\n",
    "        i += 1\n",
    "    elif final_list_dict[\"first1\"] == quinta_list_dict[\"third2\"]:\n",
    "        i += 1\n",
    "    elif final_list_dict[\"second1\"] == quinta_list_dict[\"first2\"]:\n",
    "        i += 1\n",
    "    elif final_list_dict[\"second1\"] == quinta_list_dict[\"second2\"]:\n",
    "        i += 1\n",
    "    elif final_list_dict[\"second1\"] == quinta_list_dict[\"third2\"]:\n",
    "        i += 1\n",
    "    elif final_list_dict[\"third1\"] == quinta_list_dict[\"first2\"]:\n",
    "        i += 1\n",
    "    elif final_list_dict[\"third1\"] == quinta_list_dict[\"second2\"]:\n",
    "        i += 1\n",
    "    elif final_list_dict[\"third1\"] == quinta_list_dict[\"third2\"]:\n",
    "        i += 1\n",
    "    return (i / len(final_list_dict)) * 100\n",
    "        \n",
    "    \n",
    "the_same_varieties_of_first()\n"
   ]
  },
  {
   "cell_type": "code",
   "execution_count": 26,
   "metadata": {},
   "outputs": [],
   "source": [
    "def cell(row_idx, col_name):\n",
    "    col_idx = csv_header.index(col_name)\n",
    "    val = csv_data[row_idx][col_idx]\n",
    "    if val == \"\":\n",
    "        return 999\n",
    "    elif col_idx == 1:\n",
    "        return int(val)\n",
    "    elif col_idx == 2:\n",
    "        return float(val)\n",
    "    elif col_idx >= 3:\n",
    "        return str(val)\n",
    "    return val"
   ]
  },
  {
   "cell_type": "code",
   "execution_count": 27,
   "metadata": {},
   "outputs": [
    {
     "data": {
      "text/plain": [
       "10.0"
      ]
     },
     "execution_count": 27,
     "metadata": {},
     "output_type": "execute_result"
    }
   ],
   "source": [
    "#q19\n",
    "def cheapest_cost_of_wine():\n",
    "    cheapest_price = 9999\n",
    "    for i in range(len(csv_data)):\n",
    "        if cell(i,\"country\") == \"US\":\n",
    "            wine_price = cell(i, \"price\")\n",
    "            if wine_price <= cheapest_price:\n",
    "                cheapest_price = cell(i, \"price\")\n",
    "                \n",
    "    return cheapest_price\n",
    "\n",
    "cost_of_cheapest_wine = cheapest_cost_of_wine()\n",
    "cost_of_cheapest_wine"
   ]
  },
  {
   "cell_type": "code",
   "execution_count": 28,
   "metadata": {},
   "outputs": [],
   "source": [
    "def cell(row_idx, col_name):\n",
    "    col_idx = csv_header.index(col_name)\n",
    "    val = csv_data[row_idx][col_idx]\n",
    "    if val == \"\":\n",
    "        return 1\n",
    "    elif col_idx == 1:\n",
    "        return int(val)\n",
    "    elif col_idx == 2:\n",
    "        return float(val)\n",
    "    elif col_idx >= 3:\n",
    "        return str(val)\n",
    "    return val"
   ]
  },
  {
   "cell_type": "code",
   "execution_count": 29,
   "metadata": {},
   "outputs": [
    {
     "data": {
      "text/plain": [
       "335.0"
      ]
     },
     "execution_count": 29,
     "metadata": {},
     "output_type": "execute_result"
    }
   ],
   "source": [
    "#q20\n",
    "def expensive_cost_of_wine():\n",
    "    expensive_price = 1\n",
    "    for i in range(len(csv_data)):\n",
    "        if cell(i,\"country\") == \"US\":\n",
    "            max_wine_price = cell(i, \"price\")\n",
    "            if max_wine_price >= expensive_price:\n",
    "                expensive_price = cell(i, \"price\")\n",
    "                \n",
    "    return expensive_price\n",
    "\n",
    "most_expensive_wine = expensive_cost_of_wine()\n",
    "most_expensive_wine + cost_of_cheapest_wine"
   ]
  },
  {
   "cell_type": "code",
   "execution_count": null,
   "metadata": {},
   "outputs": [],
   "source": []
  },
  {
   "cell_type": "code",
   "execution_count": null,
   "metadata": {},
   "outputs": [],
   "source": []
  }
 ],
 "metadata": {
  "kernelspec": {
   "display_name": "Python 3",
   "language": "python",
   "name": "python3"
  },
  "language_info": {
   "codemirror_mode": {
    "name": "ipython",
    "version": 3
   },
   "file_extension": ".py",
   "mimetype": "text/x-python",
   "name": "python",
   "nbconvert_exporter": "python",
   "pygments_lexer": "ipython3",
   "version": "3.7.4"
  }
 },
 "nbformat": 4,
 "nbformat_minor": 2
}
