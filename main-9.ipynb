{
 "cells": [
  {
   "cell_type": "code",
   "execution_count": 1,
   "metadata": {},
   "outputs": [],
   "source": [
    "#project: p9\n",
    "#submitter: jlatour\n",
    "#partner: jmhansen7"
   ]
  },
  {
   "cell_type": "code",
   "execution_count": 2,
   "metadata": {},
   "outputs": [],
   "source": [
    "import os, json, csv"
   ]
  },
  {
   "cell_type": "code",
   "execution_count": 3,
   "metadata": {},
   "outputs": [
    {
     "data": {
      "text/plain": [
       "['sample_reviews.json',\n",
       " 'sample_reviews.csv',\n",
       " 'review5.json',\n",
       " 'review5.csv',\n",
       " 'review4.json',\n",
       " 'review4.csv',\n",
       " 'review3.json',\n",
       " 'review3.csv',\n",
       " 'review2.json',\n",
       " 'review2.csv',\n",
       " 'review1.json',\n",
       " 'review1.csv',\n",
       " 'products.json']"
      ]
     },
     "execution_count": 3,
     "metadata": {},
     "output_type": "execute_result"
    }
   ],
   "source": [
    "#q1\n",
    "r = os.listdir(\"data\")\n",
    "r.sort(reverse = True)\n",
    "r"
   ]
  },
  {
   "cell_type": "code",
   "execution_count": 4,
   "metadata": {},
   "outputs": [
    {
     "data": {
      "text/plain": [
       "['review1.csv',\n",
       " 'review3.csv',\n",
       " 'review2.csv',\n",
       " 'sample_reviews.csv',\n",
       " 'review5.csv',\n",
       " 'review1.json',\n",
       " 'review4.csv',\n",
       " 'sample_reviews.json',\n",
       " 'review4.json',\n",
       " 'review5.json',\n",
       " 'products.json',\n",
       " 'review2.json',\n",
       " 'review3.json']"
      ]
     },
     "execution_count": 4,
     "metadata": {},
     "output_type": "execute_result"
    }
   ],
   "source": [
    "x = os.listdir(\"data\")\n",
    "x"
   ]
  },
  {
   "cell_type": "code",
   "execution_count": 5,
   "metadata": {},
   "outputs": [
    {
     "data": {
      "text/plain": [
       "['data/sample_reviews.json',\n",
       " 'data/sample_reviews.csv',\n",
       " 'data/review5.json',\n",
       " 'data/review5.csv',\n",
       " 'data/review4.json',\n",
       " 'data/review4.csv',\n",
       " 'data/review3.json',\n",
       " 'data/review3.csv',\n",
       " 'data/review2.json',\n",
       " 'data/review2.csv',\n",
       " 'data/review1.json',\n",
       " 'data/review1.csv',\n",
       " 'data/products.json']"
      ]
     },
     "execution_count": 5,
     "metadata": {},
     "output_type": "execute_result"
    }
   ],
   "source": [
    "#q2\n",
    "data_paths = []\n",
    "\n",
    "for fname in x:\n",
    "    data_paths.append(os.path.join(\"data\", fname ))\n",
    "\n",
    "data_paths.sort(reverse = True)\n",
    "data_paths"
   ]
  },
  {
   "cell_type": "code",
   "execution_count": 6,
   "metadata": {},
   "outputs": [
    {
     "data": {
      "text/plain": [
       "['data/sample_reviews.csv',\n",
       " 'data/review5.csv',\n",
       " 'data/review4.csv',\n",
       " 'data/review3.csv',\n",
       " 'data/review2.csv',\n",
       " 'data/review1.csv']"
      ]
     },
     "execution_count": 6,
     "metadata": {},
     "output_type": "execute_result"
    }
   ],
   "source": [
    "#q3\n",
    "csv_list = []\n",
    "for fname in data_paths:\n",
    "    if \"csv\" in fname:\n",
    "        csv_list.append(fname)\n",
    "\n",
    "csv_list"
   ]
  },
  {
   "cell_type": "code",
   "execution_count": 7,
   "metadata": {},
   "outputs": [
    {
     "data": {
      "text/plain": [
       "['data/review5.json',\n",
       " 'data/review5.csv',\n",
       " 'data/review4.json',\n",
       " 'data/review4.csv',\n",
       " 'data/review3.json',\n",
       " 'data/review3.csv',\n",
       " 'data/review2.json',\n",
       " 'data/review2.csv',\n",
       " 'data/review1.json',\n",
       " 'data/review1.csv']"
      ]
     },
     "execution_count": 7,
     "metadata": {},
     "output_type": "execute_result"
    }
   ],
   "source": [
    "#q4\n",
    "review_list = []\n",
    "for fname in data_paths:\n",
    "    if fname.startswith(\"data/review\"):\n",
    "        review_list.append(fname)\n",
    "review_list"
   ]
  },
  {
   "cell_type": "code",
   "execution_count": 8,
   "metadata": {},
   "outputs": [],
   "source": [
    "def json_reader(fname):\n",
    "    f = open(os.path.join(\"data\", fname), encoding=\"utf-8\")\n",
    "    json_str = f.read()\n",
    "    f.close()\n",
    "\n",
    "    data = json.loads(json_str)\n",
    "    return(data)"
   ]
  },
  {
   "cell_type": "code",
   "execution_count": 9,
   "metadata": {},
   "outputs": [
    {
     "data": {
      "text/plain": [
       "{'B00QFQRELG': 'Amazon 9W PowerFast Official OEM USB Charger and Power Adapter for Fire Tablets and Kindle eReaders',\n",
       " 'B01BH83OOM': 'Amazon Tap Smart Assistant Alexa enabled (black) Brand New',\n",
       " 'B00ZV9PXP2': 'All-New Kindle E-reader - Black, 6\" Glare-Free Touchscreen Display, Wi-Fi - Includes Special Offers',\n",
       " 'B0751RGYJV': 'Amazon Echo (2nd Generation) Smart Assistant Oak Finish Priority Shipping',\n",
       " 'B00IOY8XWQ': 'Kindle Voyage E-reader, 6 High-Resolution Display (300 ppi) with Adaptive Built-in Light, PagePress Sensors, Wi-Fi - Includes Special Offers',\n",
       " 'B0752151W6': 'All-new Echo (2nd Generation) with improved sound, powered by Dolby, and a new design Walnut Finish',\n",
       " 'B018Y226XO': 'Fire Kids Edition Tablet, 7 Display, Wi-Fi, 16 GB, Pink Kid-Proof Case',\n",
       " 'B01ACEKAJY': 'All-New Fire HD 8 Tablet, 8 HD Display, Wi-Fi, 32 GB - Includes Special Offers, Black',\n",
       " 'B01AHB9CYG': 'All-New Fire HD 8 Tablet, 8 HD Display, Wi-Fi, 32 GB - Includes Special Offers, Magenta',\n",
       " 'B01AHB9CN2': 'All-New Fire HD 8 Tablet, 8 HD Display, Wi-Fi, 16 GB - Includes Special Offers, Magenta',\n",
       " 'B00VINDBJK': 'Kindle Oasis E-reader with Leather Charging Cover - Merlot, 6 High-Resolution Display (300 ppi), Wi-Fi - Includes Special Offers',\n",
       " 'B01AHB9C1E': 'Fire HD 8 Tablet with Alexa, 8 HD Display, 32 GB, Tangerine - with Special Offers',\n",
       " 'B018Y229OU': 'Fire Tablet, 7 Display, Wi-Fi, 8 GB - Includes Special Offers, Magenta'}"
      ]
     },
     "execution_count": 9,
     "metadata": {},
     "output_type": "execute_result"
    }
   ],
   "source": [
    "#q5\n",
    "json_reader(\"products.json\")"
   ]
  },
  {
   "cell_type": "code",
   "execution_count": 10,
   "metadata": {},
   "outputs": [],
   "source": [
    "\n",
    "def csv_reader(fname):\n",
    "    csv_data = []\n",
    "    f = open(os.path.join(\"data\", fname), encoding=\"utf-8\")\n",
    "    reader = csv.DictReader(f)\n",
    "    for row in reader:\n",
    "        csv_data.append(row)\n",
    "        \n",
    "    return(csv_data)"
   ]
  },
  {
   "cell_type": "code",
   "execution_count": 11,
   "metadata": {},
   "outputs": [],
   "source": [
    "r1 = csv_reader(\"review1.csv\")\n",
    "r2 = csv_reader(\"review2.csv\")\n",
    "r3 = csv_reader(\"review3.csv\")\n",
    "r4 = csv_reader(\"review4.csv\")\n",
    "r5 = csv_reader(\"review5.csv\")\n",
    "\n",
    "allr = r1 + r2 + r3 + r4 + r5"
   ]
  },
  {
   "cell_type": "code",
   "execution_count": 12,
   "metadata": {},
   "outputs": [
    {
     "data": {
      "text/plain": [
       "'It does what it is suppose to. No problems with it...'"
      ]
     },
     "execution_count": 12,
     "metadata": {},
     "output_type": "execute_result"
    }
   ],
   "source": [
    "#q6\n",
    "def findId(id):\n",
    "    for r in allr:\n",
    "        if r[\"review id\"] == str(id):\n",
    "            return r[\"review text\"]\n",
    "findId(1410)"
   ]
  },
  {
   "cell_type": "code",
   "execution_count": 13,
   "metadata": {},
   "outputs": [
    {
     "data": {
      "text/plain": [
       "'I hate amazon app store. Nothing good in there. The tablet is too slow for what I do... it is good for reading only....'"
      ]
     },
     "execution_count": 13,
     "metadata": {},
     "output_type": "execute_result"
    }
   ],
   "source": [
    "#q7\n",
    "findId(69899)"
   ]
  },
  {
   "cell_type": "code",
   "execution_count": 14,
   "metadata": {},
   "outputs": [],
   "source": [
    "def findTitle(id):\n",
    "    for r in allr:\n",
    "        if r[\"review id\"] == str(id):\n",
    "            return r[\"review title\"]\n"
   ]
  },
  {
   "cell_type": "code",
   "execution_count": 15,
   "metadata": {},
   "outputs": [
    {
     "data": {
      "text/plain": [
       "'Perfection'"
      ]
     },
     "execution_count": 15,
     "metadata": {},
     "output_type": "execute_result"
    }
   ],
   "source": [
    "#q8\n",
    "findTitle(28013)"
   ]
  },
  {
   "cell_type": "code",
   "execution_count": 16,
   "metadata": {},
   "outputs": [],
   "source": [
    "def getfname(id):\n",
    "    for r in [r1, r2, r3, r4, r5]:\n",
    "        for i in r:\n",
    "            if i[\"review id\"] == id:\n",
    "                if r == r1:\n",
    "                    return(\"review1.csv\")\n",
    "                if r == r2:\n",
    "                    return(\"review2.csv\")\n",
    "                if r == r3:\n",
    "                    return(\"review3.csv\")\n",
    "                if r == r4:\n",
    "                    return(\"review4.csv\")\n",
    "                if r == r5:\n",
    "                    return(\"review5.csv\")\n",
    "                "
   ]
  },
  {
   "cell_type": "code",
   "execution_count": 17,
   "metadata": {},
   "outputs": [
    {
     "data": {
      "text/plain": [
       "'review3.csv'"
      ]
     },
     "execution_count": 17,
     "metadata": {},
     "output_type": "execute_result"
    }
   ],
   "source": [
    "#q9\n",
    "getfname(\"28013\")"
   ]
  },
  {
   "cell_type": "code",
   "execution_count": 18,
   "metadata": {},
   "outputs": [
    {
     "data": {
      "text/plain": [
       "{'10101': ['Mikey123456789', 'B00QFQRELG'],\n",
       " '99904': ['diamond', 'B00QFQRELG'],\n",
       " '89604': ['Pat91', 'B00QFQRELG'],\n",
       " '58704': ['Frank', 'B00QFQRELG'],\n",
       " '38104': ['LADYD92', 'B00QFQRELG']}"
      ]
     },
     "execution_count": 18,
     "metadata": {},
     "output_type": "execute_result"
    }
   ],
   "source": [
    "#q10\n",
    "\n",
    "json_reader(\"sample_reviews.json\")"
   ]
  },
  {
   "cell_type": "code",
   "execution_count": 19,
   "metadata": {},
   "outputs": [],
   "source": [
    "from collections import namedtuple\n",
    "\n",
    "Review = namedtuple(\"Review\", [\"id\", \"username\", \"asin\", \"title\", \"text\", \"rating\", \"do_recommend\", \"num_helpful\", \"date\"])\n",
    "\n",
    "def get_reviews(fname1, fname2):\n",
    "    list_review = []\n",
    "    f = open(os.path.join(\"data\", fname1), encoding=\"utf-8\")\n",
    "    reader = list(csv.reader(f))\n",
    "    header = reader[0]\n",
    "    f = open(os.path.join(\"data\", fname2), encoding=\"utf-8\")\n",
    "    product_json = json.load(f)\n",
    "    for row in reader[1:]:\n",
    "        #print(row)\n",
    "\n",
    "        try:\n",
    "            temp_list = []\n",
    "            temp_list.append(int(row[0]))\n",
    "            temp_list.append(product_json[row[0]][0])\n",
    "            temp_list.append(product_json[row[0]][1])\n",
    "            #for i in range(1,7):\n",
    "                #temp_list.append(row[i])\n",
    "            temp_list.append(row[1])\n",
    "            temp_list.append(row[2])\n",
    "            temp_list.append(int(row[3]))\n",
    "            temp_list.append(row[4]== \"True\")\n",
    "            temp_list.append(int(row[5]))\n",
    "            temp_list.append(row[6])\n",
    "\n",
    "\n",
    "            list_review.append(Review(*temp_list))\n",
    "        except:\n",
    "            pass\n",
    "    return(list_review)\n",
    "            \n",
    "            \n",
    "            \n",
    "            \n",
    "            \n",
    "            \n",
    "            "
   ]
  },
  {
   "cell_type": "code",
   "execution_count": 20,
   "metadata": {},
   "outputs": [
    {
     "data": {
      "text/plain": [
       "[Review(id=10101, username='Mikey123456789', asin='B00QFQRELG', title='A charger', text='It seems to work just like any other usb plug in charger.', rating=5, do_recommend=True, num_helpful=0, date='2017-01-02'),\n",
       " Review(id=99904, username='diamond', asin='B00QFQRELG', title='amazon power fast usb charger', text='got this for my kindle 7 tablet . Does an excellent job charging the kindle fire 7 a lot faster than the one it came with the kindle fire', rating=5, do_recommend=True, num_helpful=2, date='2016-06-03'),\n",
       " Review(id=89604, username='Pat91', asin='B00QFQRELG', title='Amazon powerfast wall charger', text='Best kindle charger ever. Took 30 minutes to being my kindle back to life.', rating=5, do_recommend=True, num_helpful=0, date='2016-11-21'),\n",
       " Review(id=58704, username='Frank', asin='B00QFQRELG', title='correct plug for kindle', text='Quickly charges kindle so son can use it. Worked great right out of the package', rating=5, do_recommend=True, num_helpful=0, date='2016-10-14'),\n",
       " Review(id=38104, username='LADYD92', asin='B00QFQRELG', title='Fast Charger', text='Bought this charger for the Kindle voyage and its great.', rating=5, do_recommend=True, num_helpful=0, date='2016-09-30')]"
      ]
     },
     "execution_count": 20,
     "metadata": {},
     "output_type": "execute_result"
    }
   ],
   "source": [
    "#q11\n",
    "get_reviews(\"sample_reviews.csv\", \"sample_reviews.json\")"
   ]
  },
  {
   "cell_type": "code",
   "execution_count": 21,
   "metadata": {},
   "outputs": [
    {
     "data": {
      "text/plain": [
       "[Review(id=10101, username='Mikey123456789', asin='B00QFQRELG', title='A charger', text='It seems to work just like any other usb plug in charger.', rating=5, do_recommend=True, num_helpful=0, date='2017-01-02'),\n",
       " Review(id=99904, username='diamond', asin='B00QFQRELG', title='amazon power fast usb charger', text='got this for my kindle 7 tablet . Does an excellent job charging the kindle fire 7 a lot faster than the one it came with the kindle fire', rating=5, do_recommend=True, num_helpful=2, date='2016-06-03'),\n",
       " Review(id=89604, username='Pat91', asin='B00QFQRELG', title='Amazon powerfast wall charger', text='Best kindle charger ever. Took 30 minutes to being my kindle back to life.', rating=5, do_recommend=True, num_helpful=0, date='2016-11-21'),\n",
       " Review(id=58704, username='Frank', asin='B00QFQRELG', title='correct plug for kindle', text='Quickly charges kindle so son can use it. Worked great right out of the package', rating=5, do_recommend=True, num_helpful=0, date='2016-10-14'),\n",
       " Review(id=38104, username='LADYD92', asin='B00QFQRELG', title='Fast Charger', text='Bought this charger for the Kindle voyage and its great.', rating=5, do_recommend=True, num_helpful=0, date='2016-09-30'),\n",
       " Review(id=76407, username='RobT', asin='B00QFQRELG', title='Good charger', text='This wall charger works exactly as described for the Kindle Paperwhite.', rating=5, do_recommend=True, num_helpful=0, date='2016-07-22'),\n",
       " Review(id=83810, username='Iodine', asin='B00QFQRELG', title='Great item', text='Have been using this item and it seems to be working quite well.', rating=5, do_recommend=True, num_helpful=0, date='2017-03-15'),\n",
       " Review(id=32310, username='Akki', asin='B00QFQRELG', title='Nice one', text='Good one and working without any issues. Slim and portable', rating=5, do_recommend=True, num_helpful=0, date='2016-06-24'),\n",
       " Review(id=22010, username='STRIPYGOOSE', asin='B00QFQRELG', title='not any faster', text='it does not charge any faster than regular charger.', rating=3, do_recommend=False, num_helpful=0, date='2016-08-18'),\n",
       " Review(id=1410, username='Jk60', asin='B00QFQRELG', title='Satisfied', text='It does what it is suppose to. No problems with it...', rating=4, do_recommend=True, num_helpful=0, date='2016-12-07')]"
      ]
     },
     "execution_count": 21,
     "metadata": {},
     "output_type": "execute_result"
    }
   ],
   "source": [
    "#q12\n",
    "get_reviews(\"review1.csv\", \"review1.json\")[0:10]"
   ]
  },
  {
   "cell_type": "code",
   "execution_count": 22,
   "metadata": {},
   "outputs": [
    {
     "data": {
      "text/plain": [
       "[Review(id=25136, username='Angrydagg', asin='B018Y229OU', title='Nice features for the price.', text='For the price this tables does everything I need. so far.', rating=4, do_recommend=True, num_helpful=0, date='2015-12-30'),\n",
       " Review(id=84039, username='Appman2015', asin='B018Y229OU', title='Great for xmas', text='So far I have bought three of these of tablets and they love it', rating=4, do_recommend=True, num_helpful=1, date='2015-12-30'),\n",
       " Review(id=22239, username='SuzieQ', asin='B018Y229OU', title='great for pre teens', text='i am glad i got them for my grand children they r enjoying them', rating=5, do_recommend=True, num_helpful=0, date='2015-12-31'),\n",
       " Review(id=70842, username='Gracie', asin='B018Y229OU', title='Great kindle', text='Purchase was good. Very easy to set up and use. Clear screen. Easy to charge. Would like more storage.', rating=5, do_recommend=True, num_helpful=0, date='2015-12-31'),\n",
       " Review(id=60542, username='Jeremyjeepster', asin='B018Y229OU', title='Good entry level tablet reader.', text='His is a very economical entry level tablet. Great for kids or for first time users.', rating=4, do_recommend=True, num_helpful=0, date='2015-12-31'),\n",
       " Review(id=9042, username='kinglowe78', asin='B018Y229OU', title='Good Deal', text='Real good deal. Nice present for those who want a tablet', rating=4, do_recommend=True, num_helpful=1, date='2016-01-01'),\n",
       " Review(id=98845, username='jamal', asin='B018Y229OU', title='good basic', text='Good gift for basic Internet use browsing emails .', rating=3, do_recommend=True, num_helpful=1, date='2016-01-01'),\n",
       " Review(id=37045, username='CaOk', asin='B018Y229OU', title='decent budget tablet that does what it suppose to', text='Nothing fancy. A good budget tablet that does what It suppose to do', rating=4, do_recommend=True, num_helpful=0, date='2016-01-01'),\n",
       " Review(id=26745, username='Tablet2', asin='B018Y229OU', title='Affordable tablet', text='Bought tablet for my five year old nephew. Is affordable and has good specs. Easy to use. Camera and video are good. My nephew has no problem using it', rating=4, do_recommend=True, num_helpful=0, date='2016-01-01'),\n",
       " Review(id=3248, username='Tims54913', asin='B018Y229OU', title='Great tablet', text='If your connected to amazon the tablet is great to use.', rating=5, do_recommend=True, num_helpful=0, date='2016-01-02')]"
      ]
     },
     "execution_count": 22,
     "metadata": {},
     "output_type": "execute_result"
    }
   ],
   "source": [
    "#q13\n",
    "get_reviews(\"review2.csv\", \"review2.json\")[-10:]"
   ]
  },
  {
   "cell_type": "code",
   "execution_count": 23,
   "metadata": {},
   "outputs": [
    {
     "data": {
      "text/plain": [
       "False"
      ]
     },
     "execution_count": 23,
     "metadata": {},
     "output_type": "execute_result"
    }
   ],
   "source": [
    "\"False\" == \"True\""
   ]
  },
  {
   "cell_type": "code",
   "execution_count": null,
   "metadata": {},
   "outputs": [],
   "source": []
  }
 ],
 "metadata": {
  "kernelspec": {
   "display_name": "Python 3",
   "language": "python",
   "name": "python3"
  },
  "language_info": {
   "codemirror_mode": {
    "name": "ipython",
    "version": 3
   },
   "file_extension": ".py",
   "mimetype": "text/x-python",
   "name": "python",
   "nbconvert_exporter": "python",
   "pygments_lexer": "ipython3",
   "version": "3.7.4"
  }
 },
 "nbformat": 4,
 "nbformat_minor": 2
}
