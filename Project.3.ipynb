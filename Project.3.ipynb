{
 "cells": [
  {
   "cell_type": "code",
   "execution_count": 1,
   "metadata": {},
   "outputs": [],
   "source": [
    "# project: p3"
   ]
  },
  {
   "cell_type": "code",
   "execution_count": 2,
   "metadata": {},
   "outputs": [],
   "source": [
    "import project"
   ]
  },
  {
   "cell_type": "code",
   "execution_count": 3,
   "metadata": {},
   "outputs": [
    {
     "data": {
      "text/plain": [
       "['__DictReader',\n",
       " '__agency_to_id',\n",
       " '__builtins__',\n",
       " '__cached__',\n",
       " '__data',\n",
       " '__doc__',\n",
       " '__file__',\n",
       " '__loader__',\n",
       " '__name__',\n",
       " '__package__',\n",
       " '__spec__',\n",
       " 'dump',\n",
       " 'get_id',\n",
       " 'get_spending',\n",
       " 'init']"
      ]
     },
     "execution_count": 3,
     "metadata": {},
     "output_type": "execute_result"
    }
   ],
   "source": [
    "dir(project)"
   ]
  },
  {
   "cell_type": "code",
   "execution_count": 4,
   "metadata": {},
   "outputs": [],
   "source": [
    "project.init(\"madison.csv\")"
   ]
  },
  {
   "cell_type": "code",
   "execution_count": 5,
   "metadata": {},
   "outputs": [
    {
     "data": {
      "text/plain": [
       "12"
      ]
     },
     "execution_count": 5,
     "metadata": {},
     "output_type": "execute_result"
    }
   ],
   "source": [
    "#q1\n",
    "project.get_id('parks')"
   ]
  },
  {
   "cell_type": "code",
   "execution_count": 6,
   "metadata": {
    "scrolled": true
   },
   "outputs": [
    {
     "data": {
      "text/plain": [
       "55.215007260000014"
      ]
     },
     "execution_count": 6,
     "metadata": {},
     "output_type": "execute_result"
    }
   ],
   "source": [
    "#q2\n",
    "project.get_spending(6, 2018)"
   ]
  },
  {
   "cell_type": "code",
   "execution_count": 7,
   "metadata": {},
   "outputs": [],
   "source": [
    "streets_id = project.get_id(\"streets\")"
   ]
  },
  {
   "cell_type": "code",
   "execution_count": 8,
   "metadata": {},
   "outputs": [],
   "source": [
    "police_id = project.get_id(\"police\")"
   ]
  },
  {
   "cell_type": "code",
   "execution_count": 9,
   "metadata": {},
   "outputs": [
    {
     "data": {
      "text/plain": [
       "26.655754419999994"
      ]
     },
     "execution_count": 9,
     "metadata": {},
     "output_type": "execute_result"
    }
   ],
   "source": [
    "#q3\n",
    "project.get_spending(streets_id, 2017)"
   ]
  },
  {
   "cell_type": "code",
   "execution_count": 10,
   "metadata": {},
   "outputs": [],
   "source": [
    "fire_id = project.get_id(\"fire\")"
   ]
  },
  {
   "cell_type": "code",
   "execution_count": 11,
   "metadata": {},
   "outputs": [],
   "source": [
    "def year_max(year):\n",
    "    # grab the spending by each agency in the given year\n",
    "    police_spending = project.get_spending(project.get_id(\"police\"), year)\n",
    "    fire_spending = project.get_spending(project.get_id(\"fire\"), year)\n",
    "    library_spending = project.get_spending(project.get_id(\"library\"), year)\n",
    "    parks_spending = project.get_spending(project.get_id(\"parks\"), year)\n",
    "    streets_spending = project.get_spending(project.get_id(\"streets\"), year)\n",
    "\n",
    "    # use builtin max function to get the largest of the five values\n",
    "    return max(police_spending, fire_spending, library_spending, parks_spending, streets_spending)"
   ]
  },
  {
   "cell_type": "code",
   "execution_count": 12,
   "metadata": {},
   "outputs": [
    {
     "data": {
      "text/plain": [
       "68.06346877"
      ]
     },
     "execution_count": 12,
     "metadata": {},
     "output_type": "execute_result"
    }
   ],
   "source": [
    "#q4\n",
    "year_max(2015)"
   ]
  },
  {
   "cell_type": "code",
   "execution_count": 13,
   "metadata": {},
   "outputs": [
    {
     "data": {
      "text/plain": [
       "77.87553504"
      ]
     },
     "execution_count": 13,
     "metadata": {},
     "output_type": "execute_result"
    }
   ],
   "source": [
    "#q5\n",
    "year_max(2018)"
   ]
  },
  {
   "cell_type": "code",
   "execution_count": 14,
   "metadata": {},
   "outputs": [],
   "source": [
    "def agency_min(agency):\n",
    "    agency_id = project.get_id(agency)\n",
    "    y15 = project.get_spending(agency_id, 2015)\n",
    "    y16 = project.get_spending(agency_id, 2016)\n",
    "    y17 = project.get_spending(agency_id, 2017)\n",
    "    y18 = project.get_spending(agency_id, 2018)\n",
    "    return min(y15, y16, y17, y18)\n"
   ]
  },
  {
   "cell_type": "code",
   "execution_count": 15,
   "metadata": {},
   "outputs": [
    {
     "data": {
      "text/plain": [
       "68.06346877"
      ]
     },
     "execution_count": 15,
     "metadata": {},
     "output_type": "execute_result"
    }
   ],
   "source": [
    "#q6\n",
    "agency_min(\"police\")"
   ]
  },
  {
   "cell_type": "code",
   "execution_count": 16,
   "metadata": {},
   "outputs": [
    {
     "data": {
      "text/plain": [
       "16.96543425"
      ]
     },
     "execution_count": 16,
     "metadata": {},
     "output_type": "execute_result"
    }
   ],
   "source": [
    "#q7\n",
    "agency_min(\"library\")"
   ]
  },
  {
   "cell_type": "code",
   "execution_count": 17,
   "metadata": {},
   "outputs": [
    {
     "data": {
      "text/plain": [
       "18.371421039999998"
      ]
     },
     "execution_count": 17,
     "metadata": {},
     "output_type": "execute_result"
    }
   ],
   "source": [
    "#q8\n",
    "agency_min(\"parks\")"
   ]
  },
  {
   "cell_type": "code",
   "execution_count": 18,
   "metadata": {},
   "outputs": [],
   "source": [
    "def agency_avg(agency):\n",
    "    agency_id = project.get_id(agency)\n",
    "    y15 = project.get_spending(agency_id, 2015)\n",
    "    y16 = project.get_spending(agency_id, 2016)\n",
    "    y17 = project.get_spending(agency_id, 2017)\n",
    "    y18 = project.get_spending(agency_id, 2018)\n",
    "    return (y15 + y16 + y17 + y18) / 4"
   ]
  },
  {
   "cell_type": "code",
   "execution_count": 19,
   "metadata": {},
   "outputs": [
    {
     "data": {
      "text/plain": [
       "27.013047475"
      ]
     },
     "execution_count": 19,
     "metadata": {},
     "output_type": "execute_result"
    }
   ],
   "source": [
    "#q9\n",
    "agency_avg(\"streets\")"
   ]
  },
  {
   "cell_type": "code",
   "execution_count": 20,
   "metadata": {},
   "outputs": [
    {
     "data": {
      "text/plain": [
       "52.5162449575"
      ]
     },
     "execution_count": 20,
     "metadata": {},
     "output_type": "execute_result"
    }
   ],
   "source": [
    "#q10\n",
    "agency_avg(\"fire\")"
   ]
  },
  {
   "cell_type": "code",
   "execution_count": 21,
   "metadata": {},
   "outputs": [],
   "source": [
    "def agency_aboveavg(agency, year):\n",
    "    agency_id = project.get_id(agency)\n",
    "    average = agency_avg(agency)\n",
    "    spending = project.get_spending(agency_id, year)\n",
    "    return ((spending - average) / average) * 100                   "
   ]
  },
  {
   "cell_type": "code",
   "execution_count": 22,
   "metadata": {},
   "outputs": [
    {
     "data": {
      "text/plain": [
       "7.224961934351909"
      ]
     },
     "execution_count": 22,
     "metadata": {},
     "output_type": "execute_result"
    }
   ],
   "source": [
    "#q11\n",
    "agency_aboveavg(\"police\", 2018)"
   ]
  },
  {
   "cell_type": "code",
   "execution_count": 23,
   "metadata": {},
   "outputs": [],
   "source": [
    "def change_per_year(agency, start_year=2015, end_year=2018):\n",
    "    agency_id = project.get_id(agency)\n",
    "    sy = project.get_spending(agency_id, start_year)\n",
    "    ey = project.get_spending(agency_id, end_year)\n",
    "    return ((ey - sy)  / (end_year - start_year))\n",
    "    "
   ]
  },
  {
   "cell_type": "code",
   "execution_count": 24,
   "metadata": {},
   "outputs": [
    {
     "data": {
      "text/plain": [
       "3.2706887566666674"
      ]
     },
     "execution_count": 24,
     "metadata": {},
     "output_type": "execute_result"
    }
   ],
   "source": [
    "#q12\n",
    "change_per_year(\"police\")"
   ]
  },
  {
   "cell_type": "code",
   "execution_count": 25,
   "metadata": {},
   "outputs": [
    {
     "data": {
      "text/plain": [
       "4.627587380000023"
      ]
     },
     "execution_count": 25,
     "metadata": {},
     "output_type": "execute_result"
    }
   ],
   "source": [
    "#q13\n",
    "change_per_year(\"police\", 2017)"
   ]
  },
  {
   "cell_type": "code",
   "execution_count": 26,
   "metadata": {},
   "outputs": [
    {
     "data": {
      "text/plain": [
       "-0.2148440299999983"
      ]
     },
     "execution_count": 26,
     "metadata": {},
     "output_type": "execute_result"
    }
   ],
   "source": [
    "#q14\n",
    "change_per_year(\"streets\", 2016)"
   ]
  },
  {
   "cell_type": "code",
   "execution_count": 27,
   "metadata": {},
   "outputs": [],
   "source": [
    "def extrapolate(agency, year1, year2, year3):\n",
    "    agency_id = project.get_id(agency)\n",
    "    current_spending = project.get_spending(agency_id, year1)\n",
    "    end_spending = project.get_spending(agency_id, year2)\n",
    "    average_change = (end_spending - current_spending) / (year2 - year1)\n",
    "    return ((year3 - year2) * average_change ) + end_spending"
   ]
  },
  {
   "cell_type": "code",
   "execution_count": 28,
   "metadata": {},
   "outputs": [
    {
     "data": {
      "text/plain": [
       "20.80494298333333"
      ]
     },
     "execution_count": 28,
     "metadata": {},
     "output_type": "execute_result"
    }
   ],
   "source": [
    "#q15\n",
    "extrapolate(\"library\", 2015, 2018, 2019)"
   ]
  },
  {
   "cell_type": "code",
   "execution_count": 29,
   "metadata": {},
   "outputs": [
    {
     "data": {
      "text/plain": [
       "98.55499483333321"
      ]
     },
     "execution_count": 29,
     "metadata": {},
     "output_type": "execute_result"
    }
   ],
   "source": [
    "#q16\n",
    "extrapolate(\"library\", 2015, 2018, 2100)"
   ]
  },
  {
   "cell_type": "code",
   "execution_count": 30,
   "metadata": {},
   "outputs": [
    {
     "data": {
      "text/plain": [
       "77.95994753999969"
      ]
     },
     "execution_count": 30,
     "metadata": {},
     "output_type": "execute_result"
    }
   ],
   "source": [
    "#q17\n",
    "extrapolate(\"library\", 2017, 2018, 2100)"
   ]
  },
  {
   "cell_type": "code",
   "execution_count": 31,
   "metadata": {},
   "outputs": [],
   "source": [
    "def extrapolate_error(agency, year1, year2, year3):\n",
    "    guess = extrapolate(agency, year1, year2, year3)\n",
    "    agency_id = project.get_id(agency)\n",
    "    actual_spending = project.get_spending(agency_id, year3)\n",
    "    return (guess - actual_spending)"
   ]
  },
  {
   "cell_type": "code",
   "execution_count": 32,
   "metadata": {},
   "outputs": [
    {
     "data": {
      "text/plain": [
       "-2.0353479350000327"
      ]
     },
     "execution_count": 32,
     "metadata": {},
     "output_type": "execute_result"
    }
   ],
   "source": [
    "#q18\n",
    "extrapolate_error(\"police\", 2015, 2017, 2018)"
   ]
  },
  {
   "cell_type": "code",
   "execution_count": 33,
   "metadata": {},
   "outputs": [
    {
     "data": {
      "text/plain": [
       "6.149171779999982"
      ]
     },
     "execution_count": 33,
     "metadata": {},
     "output_type": "execute_result"
    }
   ],
   "source": [
    "#q19\n",
    "extrapolate_error(\"streets\", 2015, 2016, 2018)"
   ]
  },
  {
   "cell_type": "code",
   "execution_count": 34,
   "metadata": {},
   "outputs": [],
   "source": [
    "def std_dev(agency):\n",
    "    agency_id = project.get_id(agency)\n",
    "    average = agency_avg(agency)\n",
    "    spending_y15 = project.get_spending(agency_id, 2015)\n",
    "    spending_y16 = project.get_spending(agency_id, 2016)\n",
    "    spending_y17 = project.get_spending(agency_id, 2017)\n",
    "    spending_y18 = project.get_spending(agency_id, 2018)\n",
    "    deviation_y15 = spending_y15 - average\n",
    "    deviation_y16 = spending_y16 - average\n",
    "    deviation_y17 = spending_y17 - average\n",
    "    deviation_y18 = spending_y18 - average\n",
    "    squared_deviation_y15 = (deviation_y15)**2\n",
    "    squared_deviation_y16 = (deviation_y16)**2\n",
    "    squared_deviation_y17 = (deviation_y17)**2\n",
    "    squared_deviation_y18 = (deviation_y18)**2\n",
    "    var = (squared_deviation_y15 + squared_deviation_y16 + squared_deviation_y17 + squared_deviation_y18)/4\n",
    "    return(var**0.5)"
   ]
  },
  {
   "cell_type": "code",
   "execution_count": 35,
   "metadata": {},
   "outputs": [
    {
     "data": {
      "text/plain": [
       "1.0848913984858986"
      ]
     },
     "execution_count": 35,
     "metadata": {},
     "output_type": "execute_result"
    }
   ],
   "source": [
    "#q20\n",
    "std_dev(\"library\")"
   ]
  }
 ],
 "metadata": {
  "kernelspec": {
   "display_name": "Python 3",
   "language": "python",
   "name": "python3"
  },
  "language_info": {
   "codemirror_mode": {
    "name": "ipython",
    "version": 3
   },
   "file_extension": ".py",
   "mimetype": "text/x-python",
   "name": "python",
   "nbconvert_exporter": "python",
   "pygments_lexer": "ipython3",
   "version": "3.7.4"
  }
 },
 "nbformat": 4,
 "nbformat_minor": 2
}
