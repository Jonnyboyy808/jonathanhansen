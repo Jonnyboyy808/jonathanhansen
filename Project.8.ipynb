{
 "cells": [
  {
   "cell_type": "code",
   "execution_count": 2,
   "metadata": {},
   "outputs": [],
   "source": [
    "import csv\n",
    "mapping_file = open('small_mapping.csv', encoding='utf-8')\n",
    "file_reader = csv.reader(mapping_file)\n",
    "mapping_data = list(file_reader)\n",
    "mapping_file.close()\n",
    "header = mapping_data[0]\n",
    "mapping_data = mapping_data[1:]\n",
    " "
   ]
  },
  {
   "cell_type": "code",
   "execution_count": 3,
   "metadata": {},
   "outputs": [],
   "source": [
    "import csv\n",
    "# copied from https://automatetheboringstuff.com/chapter14/\n",
    "def process_csv(filename):\n",
    "    exampleFile = open(filename, encoding=\"utf-8\")\n",
    "    exampleReader = csv.reader(exampleFile)\n",
    "    exampleData = list(exampleReader)\n",
    "    exampleFile.close()\n",
    "    return exampleData"
   ]
  },
  {
   "cell_type": "code",
   "execution_count": 4,
   "metadata": {},
   "outputs": [],
   "source": [
    "##Movies\n",
    "import csv\n",
    "_mapping_file = open('movies.csv', encoding='utf-8')\n",
    "_file_reader = csv.reader(_mapping_file)\n",
    "movies_mapping_data = list(_file_reader)\n",
    "_mapping_file.close()\n",
    "movies_header = movies_mapping_data[0]\n",
    "movies_data = movies_mapping_data[1:]"
   ]
  },
  {
   "cell_type": "code",
   "execution_count": 5,
   "metadata": {},
   "outputs": [],
   "source": [
    "##Smallmovies\n",
    "csv_list = process_csv(\"small_movies.csv\")\n",
    "sm_header = csv_list[0]\n",
    "sm_data = csv_list[1:]\n",
    "m_dic = {}"
   ]
  },
  {
   "cell_type": "code",
   "execution_count": 6,
   "metadata": {},
   "outputs": [],
   "source": [
    "def sort_strip(word):\n",
    "    cut = word.replace(\" \",\"\").lower()\n",
    "    sort = sorted(cut)\n",
    "    return sort\n",
    "def cell(row_idx, col_name):\n",
    "    col_idx = header.index(col_name)\n",
    "    val = mapping_data[row_idx][col_idx]\n",
    "    return val"
   ]
  },
  {
   "cell_type": "code",
   "execution_count": 7,
   "metadata": {},
   "outputs": [
    {
     "data": {
      "text/plain": [
       "{'nm0000131': 'John Cusack',\n",
       " 'nm0000154': 'Mel Gibson',\n",
       " 'nm0000163': 'Dustin Hoffman',\n",
       " 'nm0000418': 'Danny Glover',\n",
       " 'nm0000432': 'Gene Hackman',\n",
       " 'nm0000997': 'Gary Busey',\n",
       " 'nm0001149': 'Richard Donner',\n",
       " 'nm0001219': 'Gary Fleder',\n",
       " 'nm0752751': 'Mitchell Ryan',\n",
       " 'tt0313542': 'Runaway Jury',\n",
       " 'tt0093409': 'Lethal Weapon'}"
      ]
     },
     "execution_count": 7,
     "metadata": {},
     "output_type": "execute_result"
    }
   ],
   "source": [
    "#q1\n",
    "def get_mapping(path):\n",
    "    davis = process_csv(path)\n",
    "    if path == \"small_mapping.csv\":\n",
    "        mydict = dict((rows[0],rows[1]) for rows in davis)\n",
    "        return mydict\n",
    "    elif path == \"mapping.csv\":\n",
    "        mapping_csv_dict = dict((rows[0],rows[1]) for rows in davis) \n",
    "        return mapping_csv_dict\n",
    "    \n",
    "x = get_mapping(\"small_mapping.csv\")\n",
    "y = get_mapping(\"movies.csv\")\n",
    "get_mapping(\"small_mapping.csv\")\n"
   ]
  },
  {
   "cell_type": "code",
   "execution_count": 8,
   "metadata": {
    "scrolled": true
   },
   "outputs": [
    {
     "data": {
      "text/plain": [
       "'Mitchell Ryan'"
      ]
     },
     "execution_count": 8,
     "metadata": {},
     "output_type": "execute_result"
    }
   ],
   "source": [
    "#q2\n",
    "mapping_value = x.get(\"nm0752751\")\n",
    "mapping_value"
   ]
  },
  {
   "cell_type": "code",
   "execution_count": 9,
   "metadata": {},
   "outputs": [
    {
     "data": {
      "text/plain": [
       "['John Cusack',\n",
       " 'Mel Gibson',\n",
       " 'Dustin Hoffman',\n",
       " 'Danny Glover',\n",
       " 'Gene Hackman',\n",
       " 'Gary Busey',\n",
       " 'Richard Donner',\n",
       " 'Gary Fleder',\n",
       " 'Mitchell Ryan']"
      ]
     },
     "execution_count": 9,
     "metadata": {},
     "output_type": "execute_result"
    }
   ],
   "source": [
    "#q3\n",
    "nm_list = []\n",
    "for key, value in x.items():\n",
    "    if \"nm\" in key:\n",
    "        nm_list.append(value)\n",
    "nm_list"
   ]
  },
  {
   "cell_type": "code",
   "execution_count": 10,
   "metadata": {},
   "outputs": [
    {
     "data": {
      "text/plain": [
       "['nm0000997', 'nm0001219']"
      ]
     },
     "execution_count": 10,
     "metadata": {},
     "output_type": "execute_result"
    }
   ],
   "source": [
    "#q4\n",
    "value_list = []\n",
    "for key, value in x.items():\n",
    "    if \"Gary\" in value:\n",
    "        value_list.append(key)\n",
    "value_list"
   ]
  },
  {
   "cell_type": "code",
   "execution_count": 11,
   "metadata": {},
   "outputs": [],
   "source": [
    "movies_mapping = []\n",
    "for mapp in movies_data:\n",
    "    movies_mapping_dic = {}\n",
    "    movies_mapping_list = []                       \n",
    "    for header in movies_header:\n",
    "        if movies_header[movies_header.index(header)] == 'title':\n",
    "            movies_mapping_list = (mapp[movies_header.index(header)]) \n",
    "        elif movies_header[movies_header.index(header)] == 'year':\n",
    "            movies_mapping_list = int(mapp[movies_header.index(header)])\n",
    "        elif movies_header[movies_header.index(header)] == 'rating':\n",
    "            movies_mapping_list = float(mapp[movies_header.index(header)])\n",
    "        else: \n",
    "            movies_mapping_list = mapp[movies_header.index(header)].split(',')\n",
    "        movies_mapping_dic[header] = movies_mapping_list\n",
    "    movies_mapping.append(movies_mapping_dic)"
   ]
  },
  {
   "cell_type": "code",
   "execution_count": 12,
   "metadata": {},
   "outputs": [],
   "source": [
    "mapping = []\n",
    "for mapp in sm_data:\n",
    "    mapping_dic = {}\n",
    "    mapping_list = []                       \n",
    "    for header in sm_header:\n",
    "        if sm_header[sm_header.index(header)] == 'title':\n",
    "            mapping_list = (mapp[sm_header.index(header)]) \n",
    "        elif sm_header[sm_header.index(header)] == 'year':\n",
    "            mapping_list = int(mapp[sm_header.index(header)])\n",
    "        elif sm_header[sm_header.index(header)] == 'rating':\n",
    "            mapping_list = float(mapp[sm_header.index(header)])\n",
    "        else: \n",
    "            mapping_list = mapp[sm_header.index(header)].split(',')\n",
    "        mapping_dic[header] = mapping_list\n",
    "    mapping.append(mapping_dic)"
   ]
  },
  {
   "cell_type": "code",
   "execution_count": 13,
   "metadata": {},
   "outputs": [
    {
     "data": {
      "text/plain": [
       "[{'title': 'tt0313542',\n",
       "  'year': 2003,\n",
       "  'rating': 7.1,\n",
       "  'directors': ['nm0001219'],\n",
       "  'actors': ['nm0000131', 'nm0000432', 'nm0000163'],\n",
       "  'genres': ['Crime', 'Drama', 'Thriller']},\n",
       " {'title': 'tt0093409',\n",
       "  'year': 1987,\n",
       "  'rating': 7.6,\n",
       "  'directors': ['nm0001149'],\n",
       "  'actors': ['nm0000154', 'nm0000418', 'nm0000997', 'nm0752751'],\n",
       "  'genres': ['Action', 'Crime', 'Thriller']}]"
      ]
     },
     "execution_count": 13,
     "metadata": {},
     "output_type": "execute_result"
    }
   ],
   "source": [
    "#q5\n",
    "def get_raw_movies(path):\n",
    "    if path == 'small_movies.csv':\n",
    "        return mapping\n",
    "    elif path == \"movies.csv\":\n",
    "        return movies_mapping\n",
    "    else: \n",
    "        pass\n",
    "q8 = get_raw_movies('small_movies.csv')\n",
    "get_raw_movies('small_movies.csv')"
   ]
  },
  {
   "cell_type": "code",
   "execution_count": 14,
   "metadata": {},
   "outputs": [
    {
     "data": {
      "text/plain": [
       "3"
      ]
     },
     "execution_count": 14,
     "metadata": {},
     "output_type": "execute_result"
    }
   ],
   "source": [
    "#q6 \n",
    "x = mapping[0][\"genres\"]\n",
    "total = 0\n",
    "for i in x:\n",
    "    total = total + 1 \n",
    "total  "
   ]
  },
  {
   "cell_type": "code",
   "execution_count": 15,
   "metadata": {},
   "outputs": [
    {
     "data": {
      "text/plain": [
       "'nm0752751'"
      ]
     },
     "execution_count": 15,
     "metadata": {},
     "output_type": "execute_result"
    }
   ],
   "source": [
    "#q7\n",
    "last_id = mapping[1][\"actors\"][-1]\n",
    "last_id"
   ]
  },
  {
   "cell_type": "code",
   "execution_count": 16,
   "metadata": {},
   "outputs": [
    {
     "data": {
      "text/plain": [
       "'Runaway Jury'"
      ]
     },
     "execution_count": 16,
     "metadata": {},
     "output_type": "execute_result"
    }
   ],
   "source": [
    "#q8\n",
    "def get_movies(movies_path=\"small_movies.csv\", mapping_path=\"small_mappings.csv\"):\n",
    "    movies = get_raw_movies(movies_path)\n",
    "    mappings = get_mapping(mapping_path)\n",
    "    for a_movie in movies:\n",
    "        a_movie[\"title\"] = mappings[a_movie[\"title\"]]\n",
    "        for i in range(len(a_movie[\"directors\"])):\n",
    "            a_movie[\"directors\"][i] = mappings[a_movie[\"directors\"][i]]\n",
    "        for j in range(len(a_movie[\"actors\"])):\n",
    "            a_movie[\"actors\"][j] = mappings[a_movie[\"actors\"][j]]       \n",
    "    return movies\n",
    "\n",
    "small = get_movies(\"small_movies.csv\", \"small_mapping.csv\")\n",
    "small[0][\"title\"]"
   ]
  },
  {
   "cell_type": "code",
   "execution_count": 17,
   "metadata": {},
   "outputs": [
    {
     "data": {
      "text/plain": [
       "['Mel Gibson', 'Danny Glover', 'Gary Busey', 'Mitchell Ryan']"
      ]
     },
     "execution_count": 17,
     "metadata": {},
     "output_type": "execute_result"
    }
   ],
   "source": [
    "#q9\n",
    "small[1][\"actors\"]\n"
   ]
  },
  {
   "cell_type": "code",
   "execution_count": 18,
   "metadata": {},
   "outputs": [
    {
     "data": {
      "text/plain": [
       "['Richard Donner']"
      ]
     },
     "execution_count": 18,
     "metadata": {},
     "output_type": "execute_result"
    }
   ],
   "source": [
    "#q10\n",
    "small[-1][\"directors\"]"
   ]
  },
  {
   "cell_type": "code",
   "execution_count": 19,
   "metadata": {},
   "outputs": [
    {
     "data": {
      "text/plain": [
       "[{'title': 'Runaway Jury',\n",
       "  'year': 2003,\n",
       "  'rating': 7.1,\n",
       "  'directors': ['Gary Fleder'],\n",
       "  'actors': ['John Cusack', 'Gene Hackman', 'Dustin Hoffman'],\n",
       "  'genres': ['Crime', 'Drama', 'Thriller']},\n",
       " {'title': 'Lethal Weapon',\n",
       "  'year': 1987,\n",
       "  'rating': 7.6,\n",
       "  'directors': ['Richard Donner'],\n",
       "  'actors': ['Mel Gibson', 'Danny Glover', 'Gary Busey', 'Mitchell Ryan'],\n",
       "  'genres': ['Action', 'Crime', 'Thriller']}]"
      ]
     },
     "execution_count": 19,
     "metadata": {},
     "output_type": "execute_result"
    }
   ],
   "source": [
    "#q11\n",
    "small"
   ]
  },
  {
   "cell_type": "code",
   "execution_count": 20,
   "metadata": {},
   "outputs": [
    {
     "data": {
      "text/plain": [
       "[{'title': 'The Big Wedding',\n",
       "  'year': 2013,\n",
       "  'rating': 5.6,\n",
       "  'directors': ['Justin Zackham'],\n",
       "  'actors': ['Robert De Niro'],\n",
       "  'genres': ['Comedy', 'Drama', 'Romance']},\n",
       " {'title': 'The Affair of the Necklace',\n",
       "  'year': 2001,\n",
       "  'rating': 6.1,\n",
       "  'directors': ['Charles Shyer'],\n",
       "  'actors': ['Simon Baker', 'Jonathan Pryce', 'Adrien Brody'],\n",
       "  'genres': ['Drama', 'History', 'Romance']},\n",
       " {'title': 'The Barefoot Executive',\n",
       "  'year': 1971,\n",
       "  'rating': 6.0,\n",
       "  'directors': ['Robert Butler'],\n",
       "  'actors': ['Kurt Russell', 'Joe Flynn', 'Harry Morgan', 'Wally Cox'],\n",
       "  'genres': ['Comedy', 'Family']}]"
      ]
     },
     "execution_count": 20,
     "metadata": {},
     "output_type": "execute_result"
    }
   ],
   "source": [
    "#q12\n",
    "x = get_movies(\"movies.csv\", \"mapping.csv\")\n",
    "x[:3]"
   ]
  },
  {
   "cell_type": "code",
   "execution_count": 21,
   "metadata": {},
   "outputs": [],
   "source": [
    "import copy \n",
    "copied_x = copy.deepcopy(x)\n",
    "deep_copied_x = copy.deepcopy(x)"
   ]
  },
  {
   "cell_type": "code",
   "execution_count": 22,
   "metadata": {},
   "outputs": [
    {
     "data": {
      "text/plain": [
       "[{'title': 'Fortitude and Glory: Angelo Dundee and His Fighters',\n",
       "  'year': 2012,\n",
       "  'rating': 7.2,\n",
       "  'directors': ['Chris Tasara'],\n",
       "  'actors': ['Angelo Dundee', 'George Foreman', 'Freddie Roach'],\n",
       "  'genres': ['Sport']},\n",
       " {'title': 'Ivanhoe',\n",
       "  'year': 1952,\n",
       "  'rating': 6.8,\n",
       "  'directors': ['Richard Thorpe'],\n",
       "  'actors': ['Robert Taylor', 'George Sanders'],\n",
       "  'genres': ['Adventure', 'Drama', 'History']},\n",
       " {'title': 'The Great Gatsby',\n",
       "  'year': 1949,\n",
       "  'rating': 6.6,\n",
       "  'directors': ['Elliott Nugent'],\n",
       "  'actors': ['Alan Ladd', 'Macdonald Carey'],\n",
       "  'genres': ['Drama']}]"
      ]
     },
     "execution_count": 22,
     "metadata": {},
     "output_type": "execute_result"
    }
   ],
   "source": [
    "#q13\n",
    "x[-3:]"
   ]
  },
  {
   "cell_type": "code",
   "execution_count": 23,
   "metadata": {},
   "outputs": [
    {
     "data": {
      "text/plain": [
       "[{'title': 'Arizona',\n",
       "  'year': 1931,\n",
       "  'rating': 6.0,\n",
       "  'directors': ['George B. Seitz'],\n",
       "  'actors': ['John Wayne', 'Forrest Stanley'],\n",
       "  'genres': ['Drama', 'Romance']},\n",
       " {'title': 'City Lights',\n",
       "  'year': 1931,\n",
       "  'rating': 8.5,\n",
       "  'directors': ['Charles Chaplin'],\n",
       "  'actors': ['Charles Chaplin', 'Harry Myers'],\n",
       "  'genres': ['Comedy', 'Drama', 'Romance']},\n",
       " {'title': 'The Range Feud',\n",
       "  'year': 1931,\n",
       "  'rating': 5.8,\n",
       "  'directors': ['D. Ross Lederman'],\n",
       "  'actors': ['Buck Jones', 'John Wayne', 'Edward LeSaint'],\n",
       "  'genres': ['Mystery', 'Western']}]"
      ]
     },
     "execution_count": 23,
     "metadata": {},
     "output_type": "execute_result"
    }
   ],
   "source": [
    "#q14\n",
    "def filter_movies_by_year(movies, year):\n",
    "    i = 0\n",
    "    while i < len(movies):\n",
    "        if movies[i][\"year\"] != year:\n",
    "            movies.pop(i)\n",
    "        else:\n",
    "            i += 1\n",
    "    return movies\n",
    "filter_movies_by_year(copied_x, 1931)"
   ]
  },
  {
   "cell_type": "code",
   "execution_count": 24,
   "metadata": {},
   "outputs": [
    {
     "data": {
      "text/plain": [
       "[{'title': 'Texas Cyclone',\n",
       "  'year': 1932,\n",
       "  'rating': 6.2,\n",
       "  'directors': ['D. Ross Lederman'],\n",
       "  'actors': ['Wallace MacDonald', 'Tim McCoy', 'Wheeler Oakman', 'John Wayne'],\n",
       "  'genres': ['Action', 'Western']},\n",
       " {'title': 'Haunted Gold',\n",
       "  'year': 1932,\n",
       "  'rating': 5.5,\n",
       "  'directors': ['Mack V. Wright'],\n",
       "  'actors': ['Otto Hoffman',\n",
       "   'John Wayne',\n",
       "   'Duke',\n",
       "   'Harry Woods',\n",
       "   'Erville Alderson'],\n",
       "  'genres': ['Horror', 'Mystery', 'Western']},\n",
       " {'title': 'Girl Crazy',\n",
       "  'year': 1932,\n",
       "  'rating': 6.3,\n",
       "  'directors': ['William A. Seiter'],\n",
       "  'actors': ['Bert Wheeler', 'Robert Woolsey', 'Eddie Quillan'],\n",
       "  'genres': ['Comedy']},\n",
       " {'title': 'Hot Saturday',\n",
       "  'year': 1932,\n",
       "  'rating': 6.6,\n",
       "  'directors': ['William A. Seiter'],\n",
       "  'actors': ['Cary Grant', 'Randolph Scott', 'Edward Woods'],\n",
       "  'genres': ['Drama', 'Romance']},\n",
       " {'title': 'Lady and Gent',\n",
       "  'year': 1932,\n",
       "  'rating': 5.7,\n",
       "  'directors': ['Stephen Roberts'],\n",
       "  'actors': ['Morgan Wallace',\n",
       "   'George Bancroft',\n",
       "   'Charles Starrett',\n",
       "   'James Gleason',\n",
       "   'John Wayne'],\n",
       "  'genres': ['Drama', 'Sport']},\n",
       " {'title': 'The Big Stampede',\n",
       "  'year': 1932,\n",
       "  'rating': 5.8,\n",
       "  'directors': ['Tenny Wright'],\n",
       "  'actors': ['John Wayne', 'Noah Beery', 'Paul Hurst'],\n",
       "  'genres': ['Western']},\n",
       " {'title': 'The Shadow of the Eagle',\n",
       "  'year': 1932,\n",
       "  'rating': 5.8,\n",
       "  'directors': ['B. Reeves Eason', 'Ford Beebe'],\n",
       "  'actors': ['John Wayne', 'Walter Miller', 'Kenneth Harlan'],\n",
       "  'genres': ['Crime', 'Drama', 'Mystery']},\n",
       " {'title': 'Ride Him, Cowboy',\n",
       "  'year': 1932,\n",
       "  'rating': 5.4,\n",
       "  'directors': ['Fred Allen'],\n",
       "  'actors': ['Otis Harlan', 'John Wayne', 'Duke', 'Henry B. Walthall'],\n",
       "  'genres': ['Romance', 'Western']},\n",
       " {'title': \"Smilin' Through\",\n",
       "  'year': 1932,\n",
       "  'rating': 7.0,\n",
       "  'directors': ['Sidney Franklin'],\n",
       "  'actors': ['Fredric March', 'Leslie Howard', 'O.P. Heggie'],\n",
       "  'genres': ['Drama', 'Romance']},\n",
       " {'title': 'The Hurricane Express',\n",
       "  'year': 1932,\n",
       "  'rating': 5.6,\n",
       "  'directors': ['J.P. McGowan', 'Armand Schaefer'],\n",
       "  'actors': ['Tully Marshall', 'Conway Tearle', 'John Wayne'],\n",
       "  'genres': ['Action', 'Adventure', 'Crime']}]"
      ]
     },
     "execution_count": 24,
     "metadata": {},
     "output_type": "execute_result"
    }
   ],
   "source": [
    "#q15\n",
    "filter_movies_by_year(deep_copied_x, 1932)"
   ]
  },
  {
   "cell_type": "code",
   "execution_count": 25,
   "metadata": {},
   "outputs": [
    {
     "data": {
      "text/plain": [
       "18"
      ]
     },
     "execution_count": 25,
     "metadata": {},
     "output_type": "execute_result"
    }
   ],
   "source": [
    "#q16\n",
    "def unique_something(unique_attribute):\n",
    "    unique_list = []\n",
    "    for i in x:\n",
    "        for attribute in i[unique_attribute]:\n",
    "            unique_list.append(attribute)\n",
    "    unique_set = set(unique_list)\n",
    "    len_unique_set = len(unique_set)\n",
    "    return len_unique_set\n",
    "               \n",
    "unique_genres = unique_something(\"genres\")\n",
    "unique_genres"
   ]
  },
  {
   "cell_type": "code",
   "execution_count": 26,
   "metadata": {},
   "outputs": [
    {
     "data": {
      "text/plain": [
       "1247"
      ]
     },
     "execution_count": 26,
     "metadata": {},
     "output_type": "execute_result"
    }
   ],
   "source": [
    "#q17\n",
    "unique_actors = unique_something(\"directors\")\n",
    "unique_actors"
   ]
  },
  {
   "cell_type": "code",
   "execution_count": 27,
   "metadata": {},
   "outputs": [],
   "source": [
    "#q18 \n",
    "def most_actors(movie_set, actors_key):\n",
    "    most_actors = 0 \n",
    "    actor_list = []\n",
    "    for i in movie_set:\n",
    "        act_list = []\n",
    "        for j in i[actors_key]:\n",
    "            act_list.append(j)\n",
    "        actor_list.append(act_list)\n",
    "    return max(act_list[\"actors\"])\n",
    "most_actors(x, \"actors\")"
   ]
  },
  {
   "cell_type": "code",
   "execution_count": 28,
   "metadata": {},
   "outputs": [
    {
     "data": {
      "text/plain": [
       "6.401659528907912"
      ]
     },
     "execution_count": 28,
     "metadata": {},
     "output_type": "execute_result"
    }
   ],
   "source": [
    "#q19\n",
    "def average_movie_rating():\n",
    "    rating = 0\n",
    "    count = 0\n",
    "    for key in movies_mapping:\n",
    "        rating += key[\"rating\"]\n",
    "        count = count + 1\n",
    "    average = rating / count\n",
    "    return average\n",
    "average = average_movie_rating()\n",
    "average"
   ]
  },
  {
   "cell_type": "code",
   "execution_count": 29,
   "metadata": {},
   "outputs": [
    {
     "data": {
      "text/plain": [
       "'Dr. Strangelove or: How I Learned to Stop Worrying and Love the Bomb'"
      ]
     },
     "execution_count": 29,
     "metadata": {},
     "output_type": "execute_result"
    }
   ],
   "source": [
    "#q20\n",
    "def longest_movie(): \n",
    "    max_lng = 0\n",
    "    max_t = \"\"\n",
    "    for movie in movies_mapping:\n",
    "        title_length = 0\n",
    "        for i in movie[\"title\"]:\n",
    "            title_length = title_length + 1\n",
    "            if title_length > max_lng:\n",
    "                max_lng = title_length\n",
    "                max_t = movie[\"title\"]\n",
    "    return max_t\n",
    "    \n",
    "longest_movie = longest_movie()\n",
    "longest_movie"
   ]
  },
  {
   "cell_type": "code",
   "execution_count": 30,
   "metadata": {},
   "outputs": [],
   "source": [
    "def bucketize(movies_list, movie_key):\n",
    "    ##dictionary\n",
    "    bucketize_dic = {}\n",
    "    for movie in movies_list:\n",
    "        if type(movie[movie_key]) != list:\n",
    "            value = movie[movie_key]\n",
    "            if value in bucketize_dic:\n",
    "                bucketize_dic[value].append(movie)\n",
    "            else:\n",
    "                bucketize_dic[value] = []\n",
    "                bucketize_dic[value].append(movie)\n",
    "        else:\n",
    "            for i in movie[movie_key]:\n",
    "                if i in bucketize_dic:\n",
    "                    bucketize_dic[i].append(movie)\n",
    "                else:\n",
    "                    bucketize_dic[i] = []\n",
    "                    bucketize_dic[i].append(movie)\n",
    "    return bucketize_dic"
   ]
  },
  {
   "cell_type": "code",
   "execution_count": 31,
   "metadata": {},
   "outputs": [],
   "source": [
    "test_movies = [\n",
    "{\"title\": \"A\", \"year\": 2018, \"style\": \"short\", \"genres\": [\"g1\"]},\n",
    "{\"title\": \"B\", \"year\": 2018, \"style\": \"long\",  \"genres\": [\"g2\"]},\n",
    "{\"title\": \"C\", \"year\": 2019, \"style\": \"short\", \"genres\": [\"g3\"]},\n",
    "{\"title\": \"D\", \"year\": 2019, \"style\": \"long\", \"genres\": [\"g1\", \"g2\", \"g3\"]},\n",
    "]"
   ]
  },
  {
   "cell_type": "code",
   "execution_count": 32,
   "metadata": {},
   "outputs": [
    {
     "data": {
      "text/plain": [
       "{2018: [{'title': 'A', 'year': 2018, 'style': 'short', 'genres': ['g1']},\n",
       "  {'title': 'B', 'year': 2018, 'style': 'long', 'genres': ['g2']}],\n",
       " 2019: [{'title': 'C', 'year': 2019, 'style': 'short', 'genres': ['g3']},\n",
       "  {'title': 'D', 'year': 2019, 'style': 'long', 'genres': ['g1', 'g2', 'g3']}]}"
      ]
     },
     "execution_count": 32,
     "metadata": {},
     "output_type": "execute_result"
    }
   ],
   "source": [
    "#q21\n",
    "bucketize(test_movies, \"year\")"
   ]
  },
  {
   "cell_type": "code",
   "execution_count": 33,
   "metadata": {},
   "outputs": [
    {
     "data": {
      "text/plain": [
       "{'short': [{'title': 'A', 'year': 2018, 'style': 'short', 'genres': ['g1']},\n",
       "  {'title': 'C', 'year': 2019, 'style': 'short', 'genres': ['g3']}],\n",
       " 'long': [{'title': 'B', 'year': 2018, 'style': 'long', 'genres': ['g2']},\n",
       "  {'title': 'D', 'year': 2019, 'style': 'long', 'genres': ['g1', 'g2', 'g3']}]}"
      ]
     },
     "execution_count": 33,
     "metadata": {},
     "output_type": "execute_result"
    }
   ],
   "source": [
    "#q22\n",
    "bucketize(test_movies, \"style\")"
   ]
  },
  {
   "cell_type": "code",
   "execution_count": 34,
   "metadata": {},
   "outputs": [
    {
     "data": {
      "text/plain": [
       "{'g1': [{'title': 'A', 'year': 2018, 'style': 'short', 'genres': ['g1']},\n",
       "  {'title': 'D', 'year': 2019, 'style': 'long', 'genres': ['g1', 'g2', 'g3']}],\n",
       " 'g2': [{'title': 'B', 'year': 2018, 'style': 'long', 'genres': ['g2']},\n",
       "  {'title': 'D', 'year': 2019, 'style': 'long', 'genres': ['g1', 'g2', 'g3']}],\n",
       " 'g3': [{'title': 'C', 'year': 2019, 'style': 'short', 'genres': ['g3']},\n",
       "  {'title': 'D', 'year': 2019, 'style': 'long', 'genres': ['g1', 'g2', 'g3']}]}"
      ]
     },
     "execution_count": 34,
     "metadata": {},
     "output_type": "execute_result"
    }
   ],
   "source": [
    "#q23\n",
    "bucketize(test_movies, \"genres\")"
   ]
  },
  {
   "cell_type": "code",
   "execution_count": 35,
   "metadata": {},
   "outputs": [
    {
     "data": {
      "text/plain": [
       "{'Crime': [{'title': 'Runaway Jury',\n",
       "   'year': 2003,\n",
       "   'rating': 7.1,\n",
       "   'directors': ['Gary Fleder'],\n",
       "   'actors': ['John Cusack', 'Gene Hackman', 'Dustin Hoffman'],\n",
       "   'genres': ['Crime', 'Drama', 'Thriller']},\n",
       "  {'title': 'Lethal Weapon',\n",
       "   'year': 1987,\n",
       "   'rating': 7.6,\n",
       "   'directors': ['Richard Donner'],\n",
       "   'actors': ['Mel Gibson', 'Danny Glover', 'Gary Busey', 'Mitchell Ryan'],\n",
       "   'genres': ['Action', 'Crime', 'Thriller']}],\n",
       " 'Drama': [{'title': 'Runaway Jury',\n",
       "   'year': 2003,\n",
       "   'rating': 7.1,\n",
       "   'directors': ['Gary Fleder'],\n",
       "   'actors': ['John Cusack', 'Gene Hackman', 'Dustin Hoffman'],\n",
       "   'genres': ['Crime', 'Drama', 'Thriller']}],\n",
       " 'Thriller': [{'title': 'Runaway Jury',\n",
       "   'year': 2003,\n",
       "   'rating': 7.1,\n",
       "   'directors': ['Gary Fleder'],\n",
       "   'actors': ['John Cusack', 'Gene Hackman', 'Dustin Hoffman'],\n",
       "   'genres': ['Crime', 'Drama', 'Thriller']},\n",
       "  {'title': 'Lethal Weapon',\n",
       "   'year': 1987,\n",
       "   'rating': 7.6,\n",
       "   'directors': ['Richard Donner'],\n",
       "   'actors': ['Mel Gibson', 'Danny Glover', 'Gary Busey', 'Mitchell Ryan'],\n",
       "   'genres': ['Action', 'Crime', 'Thriller']}],\n",
       " 'Action': [{'title': 'Lethal Weapon',\n",
       "   'year': 1987,\n",
       "   'rating': 7.6,\n",
       "   'directors': ['Richard Donner'],\n",
       "   'actors': ['Mel Gibson', 'Danny Glover', 'Gary Busey', 'Mitchell Ryan'],\n",
       "   'genres': ['Action', 'Crime', 'Thriller']}]}"
      ]
     },
     "execution_count": 35,
     "metadata": {},
     "output_type": "execute_result"
    }
   ],
   "source": [
    "#q24 \n",
    "bucketize(small, \"genres\")"
   ]
  },
  {
   "cell_type": "code",
   "execution_count": 36,
   "metadata": {},
   "outputs": [
    {
     "data": {
      "text/plain": [
       "7"
      ]
     },
     "execution_count": 36,
     "metadata": {},
     "output_type": "execute_result"
    }
   ],
   "source": [
    "#q25 \n",
    "len(bucketize(small, \"actors\"))"
   ]
  },
  {
   "cell_type": "code",
   "execution_count": 37,
   "metadata": {},
   "outputs": [
    {
     "data": {
      "text/plain": [
       "2605"
      ]
     },
     "execution_count": 37,
     "metadata": {},
     "output_type": "execute_result"
    }
   ],
   "source": [
    "#q26 \n",
    "len(bucketize(movies_mapping, \"actors\"))"
   ]
  },
  {
   "cell_type": "code",
   "execution_count": 38,
   "metadata": {},
   "outputs": [
    {
     "data": {
      "text/plain": [
       "{'Comedy': 485,\n",
       " 'Drama': 1094,\n",
       " 'Romance': 352,\n",
       " 'History': 73,\n",
       " 'Family': 85,\n",
       " 'Mystery': 121,\n",
       " 'Thriller': 250,\n",
       " 'Action': 299,\n",
       " 'Crime': 357,\n",
       " 'Adventure': 283,\n",
       " 'Western': 226,\n",
       " 'Music': 38,\n",
       " 'Animation': 45,\n",
       " 'Sport': 48,\n",
       " 'Fantasy': 59,\n",
       " 'War': 99,\n",
       " 'Sci-Fi': 69,\n",
       " 'Horror': 85}"
      ]
     },
     "execution_count": 38,
     "metadata": {},
     "output_type": "execute_result"
    }
   ],
   "source": [
    "#q27\n",
    "dict_count = {}\n",
    "bucketized_genres = bucketize(movies_mapping, \"genres\")\n",
    "for i in bucketized_genres:\n",
    "    dict_count[i] = len(bucketized_genres[i])\n",
    "dict_count    "
   ]
  },
  {
   "cell_type": "code",
   "execution_count": 39,
   "metadata": {},
   "outputs": [],
   "source": [
    "import matplotlib, pandas\n",
    "\n",
    "%matplotlib inline\n",
    "\n",
    "def plot_dict(d, label=\"Please Label Me!!!\"):\n",
    "    ax = pandas.Series(d).sort_index().plot.bar(color=\"black\", fontsize=16)\n",
    "    ax.set_ylabel(label, fontsize=16)"
   ]
  },
  {
   "cell_type": "code",
   "execution_count": 40,
   "metadata": {},
   "outputs": [
    {
     "data": {
      "image/png": "[encoded data removed]",
      "text/plain": [
       "<Figure size 432x288 with 1 Axes>"
      ]
     },
     "metadata": {
      "needs_background": "light"
     },
     "output_type": "display_data"
    }
   ],
   "source": [
    "#q28 \n",
    "d = dict_count\n",
    "plot_dict(d, \"Number of Movies\")"
   ]
  },
  {
   "cell_type": "code",
   "execution_count": 41,
   "metadata": {},
   "outputs": [
    {
     "data": {
      "image/png": "[encoded data removed]",
      "text/plain": [
       "<Figure size 432x288 with 1 Axes>"
      ]
     },
     "metadata": {
      "needs_background": "light"
     },
     "output_type": "display_data"
    }
   ],
   "source": [
    "#q29\n",
    "\n",
    "pre_2000_dict = {}\n",
    "\n",
    "def genres_before():\n",
    "    bucket_movies = bucketize(movies_mapping, \"genres\")\n",
    "    for genre in bucket_movies:\n",
    "        pre_2000_dict[genre] = 0\n",
    "        for a_movie in bucket_movies[genre]:\n",
    "            if a_movie['year'] < 2000:\n",
    "                pre_2000_dict[genre] += 1 \n",
    "    return pre_2000_dict\n",
    "\n",
    "pre_2000 = genres_before()       \n",
    "\n",
    "plot_dict(pre_2000, \"Movies per year\")"
   ]
  },
  {
   "cell_type": "code",
   "execution_count": 42,
   "metadata": {},
   "outputs": [
    {
     "data": {
      "image/png": "[encoded data removed]",
      "text/plain": [
       "<Figure size 432x288 with 1 Axes>"
      ]
     },
     "metadata": {
      "needs_background": "light"
     },
     "output_type": "display_data"
    }
   ],
   "source": [
    "#q30\n",
    "\n",
    "post_2000_dict = {}\n",
    "\n",
    "def genres_before():\n",
    "    bucket_movies = bucketize(movies_mapping, \"genres\")\n",
    "    for genre in bucket_movies:\n",
    "        post_2000_dict[genre] = 0\n",
    "        for a_movie in bucket_movies[genre]:\n",
    "            if a_movie['year'] >= 2000:\n",
    "                post_2000_dict[genre] += 1 \n",
    "    return post_2000_dict\n",
    "\n",
    "post_2000 = genres_before()       \n",
    "\n",
    "plot_dict(post_2000, \"Movies per year\")"
   ]
  },
  {
   "cell_type": "code",
   "execution_count": 43,
   "metadata": {},
   "outputs": [
    {
     "data": {
      "image/png": "[encoded data removed]",
      "text/plain": [
       "<Figure size 432x288 with 1 Axes>"
      ]
     },
     "metadata": {
      "needs_background": "light"
     },
     "output_type": "display_data"
    }
   ],
   "source": [
    "#q31\n",
    "movies_count_post_2000 = {}\n",
    "\n",
    "def movies_post():\n",
    "    bucket_years = bucketize(movies_mapping, \"year\")\n",
    "    for year in bucket_years:\n",
    "        if year > 2000:\n",
    "            movies_count_post_2000[year] = len(bucket_years[year])\n",
    "    return movies_count_post_2000 \n",
    "        \n",
    "years = movies_post()     \n",
    "plot_dict(years, \"Movies per year\")"
   ]
  },
  {
   "cell_type": "code",
   "execution_count": 44,
   "metadata": {},
   "outputs": [
    {
     "data": {
      "text/plain": [
       "{'Howard Hawks': 42,\n",
       " 'Charles Chaplin': 34,\n",
       " 'Henry Hathaway': 36,\n",
       " 'Stanley Kubrick': 46,\n",
       " 'Taylor Hackford': 32,\n",
       " 'Cecil B. DeMille': 30,\n",
       " 'Lee H. Katzin': 30,\n",
       " 'Richard Fleischer': 32,\n",
       " 'Sidney Lumet': 33,\n",
       " 'George Sherman': 33,\n",
       " 'John Huston': 30,\n",
       " 'Robert Siodmak': 30,\n",
       " 'Eldar Ryazanov': 31,\n",
       " 'Martin Ritt': 32}"
      ]
     },
     "execution_count": 44,
     "metadata": {},
     "output_type": "execute_result"
    }
   ],
   "source": [
    "#q32\n",
    "#answer with a dictionary \n",
    "dicretors_over30_dict = {}\n",
    "actors_atleast50_dict ={}\n",
    "dicretors_over30_bucket = bucketize(movies_mapping, \"directors\")\n",
    "actors_atleast50_bucket = bucketize(movies_mapping, \"actors\")\n",
    "def f(keyward, time):\n",
    "    if keyward == \"director\":\n",
    "        for d in dicretors_over30_bucket:\n",
    "            d_info = dicretors_over30_bucket[d]\n",
    "            years_long = []\n",
    "            for m in d_info:\n",
    "                years_long.append(m['year'])\n",
    "            if max(years_long) - min(years_long) >= time:\n",
    "                dicretors_over30_dict[d] = max(years_long) - min(years_long)\n",
    "        return dicretors_over30_dict\n",
    "    \n",
    "    elif keyward == \"actors\":\n",
    "        for a in actors_atleast50_dict:\n",
    "            a_info = actors_atleast50_bucket[a]\n",
    "            years_length = []\n",
    "            for y in a_info:\n",
    "                years_length.append(y['year'])\n",
    "            if max(years_length) - min(years_length) >= time:\n",
    "                actors_atleast50_dict[a] = max(years_length) - min(years_length)\n",
    "        return actors_atleast50_dict\n",
    "\n",
    "f(\"director\", 30)      "
   ]
  },
  {
   "cell_type": "code",
   "execution_count": 45,
   "metadata": {},
   "outputs": [
    {
     "data": {
      "text/plain": [
       "{'Kurt Russell': 50,\n",
       " 'Mickey Rooney': 75,\n",
       " 'Robert Mitchum': 51,\n",
       " 'Glenn Ford': 52,\n",
       " 'James Caan': 52,\n",
       " 'Anthony Quinn': 61,\n",
       " 'George Burns': 60,\n",
       " 'Dean Stockwell': 53}"
      ]
     },
     "execution_count": 45,
     "metadata": {},
     "output_type": "execute_result"
    }
   ],
   "source": [
    "#q33\n",
    "dicretors_over30_dict = {}\n",
    "actors_atleast50_dict = {}\n",
    "dicretors_over30_bucket = bucketize(movies_mapping, \"directors\")\n",
    "actors_atleast50_bucket = bucketize(movies_mapping, \"actors\")\n",
    "def f(keyward, time):\n",
    "    if keyward == \"director\":\n",
    "        for d in dicretors_over30_bucket:\n",
    "            d_info = dicretors_over30_bucket[d]\n",
    "            years_long = []\n",
    "            for m in d_info:\n",
    "                years_long.append(m['year'])\n",
    "            if max(years_long) - min(years_long) >= time:\n",
    "                dicretors_over30_dict[d] = max(years_long) - min(years_long)\n",
    "        return dicretors_over30_dict\n",
    "    else: \n",
    "        for a in actors_atleast50_bucket:\n",
    "            a_info = actors_atleast50_bucket[a]\n",
    "            years_length = []\n",
    "            for y in a_info:\n",
    "                years_length.append(y['year'])\n",
    "            if max(years_length) - min(years_length) >= time:\n",
    "                actors_atleast50_dict[a] = max(years_length) - min(years_length)\n",
    "        return actors_atleast50_dict\n",
    "\n",
    "        \n",
    "f(\"actors\", 50)"
   ]
  },
  {
   "cell_type": "code",
   "execution_count": 46,
   "metadata": {},
   "outputs": [
    {
     "data": {
      "text/plain": [
       "[{'name': 'Stanley Kubrick', 'span': 46},\n",
       " {'name': 'Howard Hawks', 'span': 42},\n",
       " {'name': 'Henry Hathaway', 'span': 36},\n",
       " {'name': 'Charles Chaplin', 'span': 34},\n",
       " {'name': 'Sidney Lumet', 'span': 33},\n",
       " {'name': 'George Sherman', 'span': 33},\n",
       " {'name': 'Taylor Hackford', 'span': 32},\n",
       " {'name': 'Richard Fleischer', 'span': 32},\n",
       " {'name': 'Martin Ritt', 'span': 32},\n",
       " {'name': 'Eldar Ryazanov', 'span': 31}]"
      ]
     },
     "execution_count": 46,
     "metadata": {},
     "output_type": "execute_result"
    }
   ],
   "source": [
    "#q34\n",
    "buckets_q_34 = bucketize(movies_mapping, \"directors\")\n",
    "buckets_q_35 = bucketize(movies_mapping, \"actors\")\n",
    "def row_ranking(row):\n",
    "    return row[\"span\"]\n",
    "def top_n_span(buckets, n):\n",
    "    spans = {}\n",
    "    #forloop??? \n",
    "    for bucket_key in buckets:\n",
    "        ttl = buckets[bucket_key]\n",
    "        spanned_years = []\n",
    "        for i in ttl:\n",
    "            spanned_years.append(i['year'])\n",
    "            spans[bucket_key] = max(spanned_years) - min(spanned_years)\n",
    "    rows = []\n",
    "    for name in spans:\n",
    "        span = spans[name]\n",
    "        rows.append({\"name\": name, \"span\": span})\n",
    "    rows.sort(key=row_ranking, reverse=True)\n",
    "    return rows[:n]\n",
    "top_n_span(buckets_q_34, 10)"
   ]
  },
  {
   "cell_type": "code",
   "execution_count": 47,
   "metadata": {},
   "outputs": [
    {
     "data": {
      "text/plain": [
       "[{'name': 'Mickey Rooney', 'span': 75},\n",
       " {'name': 'Anthony Quinn', 'span': 61},\n",
       " {'name': 'George Burns', 'span': 60},\n",
       " {'name': 'Dean Stockwell', 'span': 53},\n",
       " {'name': 'Glenn Ford', 'span': 52},\n",
       " {'name': 'James Caan', 'span': 52},\n",
       " {'name': 'Robert Mitchum', 'span': 51},\n",
       " {'name': 'Kurt Russell', 'span': 50},\n",
       " {'name': 'Robert De Niro', 'span': 49},\n",
       " {'name': 'Marlon Brando', 'span': 49}]"
      ]
     },
     "execution_count": 47,
     "metadata": {},
     "output_type": "execute_result"
    }
   ],
   "source": [
    "#q35\n",
    "top_n_span(buckets_q_35, 10)"
   ]
  },
  {
   "cell_type": "code",
   "execution_count": 48,
   "metadata": {},
   "outputs": [
    {
     "data": {
      "text/plain": [
       "[{'category': 'Animation', 'rating': 7.3, 'count': 45},\n",
       " {'category': 'History', 'rating': 6.7, 'count': 73},\n",
       " {'category': 'War', 'rating': 6.7, 'count': 99}]"
      ]
     },
     "execution_count": 48,
     "metadata": {},
     "output_type": "execute_result"
    }
   ],
   "source": [
    "#q36\n",
    "def row_ranking(row):\n",
    "    return row[\"rating\"]\n",
    "def top_rated(bucket, number, min_n=0):\n",
    "    d_ratings = {}\n",
    "    d_counts = {}\n",
    "    for key in bucket:\n",
    "        options = bucket[key]\n",
    "        total_rating = []\n",
    "        for movie in options:\n",
    "            total_rating.append(movie['rating'])   \n",
    "        n = len(total_rating)\n",
    "        if n >= min_n:\n",
    "            total_rating.sort()\n",
    "            if n % 2 == 0:\n",
    "                median = (total_rating[n//2-1]+total_rating[n//2])/2\n",
    "            else:\n",
    "                median = total_rating[n//2]\n",
    "            d_ratings[key] = median\n",
    "            d_counts[key] = n    \n",
    "        rows = []\n",
    "        for cat in d_ratings:\n",
    "            median = d_ratings[cat]\n",
    "            n = d_counts[cat]\n",
    "            rows.append({\"category\": cat, \"rating\": median, \"count\": n})\n",
    "        rows.sort(key=row_ranking, reverse=True)\n",
    "    return rows[:number]\n",
    "q36 = bucketize(movies_mapping, \"genres\")\n",
    "q37 = bucketize(movies_mapping, \"year\")\n",
    "q38 = bucketize(movies_mapping, \"year\")\n",
    "q39 = bucketize(movies_mapping, \"directors\")\n",
    "q40 = bucketize(movies_mapping, \"actors\")\n",
    "top_rated(q36, 3)"
   ]
  },
  {
   "cell_type": "code",
   "execution_count": 49,
   "metadata": {},
   "outputs": [
    {
     "data": {
      "text/plain": [
       "[{'category': 1921, 'rating': 8.3, 'count': 1},\n",
       " {'category': 1925, 'rating': 8.2, 'count': 1},\n",
       " {'category': 1919, 'rating': 7.5, 'count': 1},\n",
       " {'category': 1923, 'rating': 7.3, 'count': 2},\n",
       " {'category': 1962, 'rating': 7.2, 'count': 17},\n",
       " {'category': 1964, 'rating': 7.1, 'count': 19},\n",
       " {'category': 1957, 'rating': 7.0, 'count': 24},\n",
       " {'category': 1985, 'rating': 7.0, 'count': 17},\n",
       " {'category': 1976, 'rating': 7.0, 'count': 17},\n",
       " {'category': 1963, 'rating': 6.95, 'count': 10}]"
      ]
     },
     "execution_count": 49,
     "metadata": {},
     "output_type": "execute_result"
    }
   ],
   "source": [
    "#q37\n",
    "top_rated(q37, 10)"
   ]
  },
  {
   "cell_type": "code",
   "execution_count": 50,
   "metadata": {},
   "outputs": [
    {
     "data": {
      "text/plain": [
       "[{'category': 1962, 'rating': 7.2, 'count': 17},\n",
       " {'category': 1964, 'rating': 7.1, 'count': 19},\n",
       " {'category': 1957, 'rating': 7.0, 'count': 24},\n",
       " {'category': 1985, 'rating': 7.0, 'count': 17},\n",
       " {'category': 1976, 'rating': 7.0, 'count': 17}]"
      ]
     },
     "execution_count": 50,
     "metadata": {},
     "output_type": "execute_result"
    }
   ],
   "source": [
    "#q38\n",
    "top_rated(q38, 5, 10)"
   ]
  },
  {
   "cell_type": "code",
   "execution_count": 51,
   "metadata": {},
   "outputs": [
    {
     "data": {
      "text/plain": [
       "[{'category': 'Christopher Nolan', 'rating': 8.5, 'count': 9},\n",
       " {'category': 'Leonid Gayday', 'rating': 8.4, 'count': 5},\n",
       " {'category': 'Stanley Kubrick', 'rating': 8.3, 'count': 11},\n",
       " {'category': 'Sergio Leone', 'rating': 8.3, 'count': 7}]"
      ]
     },
     "execution_count": 51,
     "metadata": {},
     "output_type": "execute_result"
    }
   ],
   "source": [
    "#q39\n",
    "top_rated(q39, 4, 3)"
   ]
  },
  {
   "cell_type": "code",
   "execution_count": 52,
   "metadata": {},
   "outputs": [
    {
     "data": {
      "text/plain": [
       "[{'category': 'Henry Bergman', 'rating': 8.2, 'count': 5},\n",
       " {'category': 'Ioan Gruffudd', 'rating': 8.2, 'count': 6},\n",
       " {'category': 'Robert Lindsay', 'rating': 8.2, 'count': 6}]"
      ]
     },
     "execution_count": 52,
     "metadata": {},
     "output_type": "execute_result"
    }
   ],
   "source": [
    "#q40\n",
    "top_rated(q40, 3, 5)"
   ]
  }
 ],
 "metadata": {
  "kernelspec": {
   "display_name": "Python 3",
   "language": "python",
   "name": "python3"
  },
  "language_info": {
   "codemirror_mode": {
    "name": "ipython",
    "version": 3
   },
   "file_extension": ".py",
   "mimetype": "text/x-python",
   "name": "python",
   "nbconvert_exporter": "python",
   "pygments_lexer": "ipython3",
   "version": "3.7.4"
  }
 },
 "nbformat": 4,
 "nbformat_minor": 2
}
