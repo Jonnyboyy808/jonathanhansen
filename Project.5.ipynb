{
 "cells": [
  {
   "cell_type": "code",
   "execution_count": 2,
   "metadata": {},
   "outputs": [],
   "source": [
    "__hurricane__ = []\n",
    "\n",
    "def __init__():\n",
    "    import csv\n",
    "    \"\"\"This function will read in the csv_file and store it in a list of dictionaries\"\"\"\n",
    "    with open('hurricanes.csv', mode='r') as csv_file:\n",
    "        csv_reader = csv.DictReader(csv_file)\n",
    "        for row in csv_reader:\n",
    "            __hurricane__.append(row)\n",
    "\n",
    "def count():\n",
    "    \"\"\"This function will return the number of records in the dataset\"\"\"\n",
    "    return len(__hurricane__)\n",
    "\n",
    "def get_name(idx):\n",
    "    \"\"\"get_name(idx) returns the name of the hurricane in row idx\"\"\"\n",
    "    return __hurricane__[int(idx)]['name']\n",
    "\n",
    "def get_formed(idx):\n",
    "    \"\"\"get_formed(idx) returns the date of formation of the hurricane in row idx\"\"\"\n",
    "    return (__hurricane__[int(idx)]['formed'])\n",
    "\n",
    "def get_dissipated(idx):\n",
    "    \"\"\"get_dissipated(idx) returns the date of dissipation of the hurricane in row idx\"\"\"\n",
    "    return (__hurricane__[int(idx)]['dissipated'])\n",
    "\n",
    "def get_mph(idx):\n",
    "    \"\"\"get_mph(idx) returns the mph of the hurricane in row idx\"\"\"\n",
    "    return int(__hurricane__[int(idx)]['mph'])\n",
    "\n",
    "def get_damage(idx):\n",
    "    \"\"\"get_damage(idx) returns the damage in dollars of the hurricane in row idx\"\"\"\n",
    "    return __hurricane__[int(idx)]['damage']\n",
    "\n",
    "def get_deaths(idx):\n",
    "    \"\"\"get_deaths(idx) returns the deaths of the hurricane in row idx\"\"\"\n",
    "    return int(__hurricane__[int(idx)]['deaths'])\n",
    "\n",
    "__init__()\n"
   ]
  },
  {
   "cell_type": "code",
   "execution_count": 3,
   "metadata": {},
   "outputs": [],
   "source": [
    "import project"
   ]
  },
  {
   "cell_type": "code",
   "execution_count": 4,
   "metadata": {},
   "outputs": [
    {
     "data": {
      "text/plain": [
       "132"
      ]
     },
     "execution_count": 4,
     "metadata": {},
     "output_type": "execute_result"
    }
   ],
   "source": [
    "#q1\n",
    "count()"
   ]
  },
  {
   "cell_type": "code",
   "execution_count": 5,
   "metadata": {},
   "outputs": [
    {
     "data": {
      "text/plain": [
       "'Carol'"
      ]
     },
     "execution_count": 5,
     "metadata": {},
     "output_type": "execute_result"
    }
   ],
   "source": [
    "#q2\n",
    "get_name(10)"
   ]
  },
  {
   "cell_type": "code",
   "execution_count": 6,
   "metadata": {},
   "outputs": [
    {
     "data": {
      "text/plain": [
       "1"
      ]
     },
     "execution_count": 6,
     "metadata": {},
     "output_type": "execute_result"
    }
   ],
   "source": [
    "#q3\n",
    "get_deaths(131)"
   ]
  },
  {
   "cell_type": "code",
   "execution_count": 7,
   "metadata": {},
   "outputs": [
    {
     "data": {
      "text/plain": [
       "True"
      ]
     },
     "execution_count": 7,
     "metadata": {},
     "output_type": "execute_result"
    }
   ],
   "source": [
    "#q4\n",
    "def find_bob():\n",
    "    for i in range(project.count()):\n",
    "        #print(project.get_name(i))\n",
    "        if project.get_name(i) != \"Bob\":\n",
    "            continue\n",
    "        else:\n",
    "            if project.get_name(i) == \"Bob\":\n",
    "                return True\n",
    "find_bob()"
   ]
  },
  {
   "cell_type": "code",
   "execution_count": 8,
   "metadata": {},
   "outputs": [
    {
     "data": {
      "text/plain": [
       "3"
      ]
     },
     "execution_count": 8,
     "metadata": {},
     "output_type": "execute_result"
    }
   ],
   "source": [
    "#q5\n",
    "count_of_florence = 0\n",
    "for i in range(project.count()):\n",
    "    if project.get_name(i).lower() == 'florence':\n",
    "        count_of_florence += 1\n",
    "count_of_florence"
   ]
  },
  {
   "cell_type": "code",
   "execution_count": 9,
   "metadata": {},
   "outputs": [
    {
     "data": {
      "text/plain": [
       "190"
      ]
     },
     "execution_count": 9,
     "metadata": {},
     "output_type": "execute_result"
    }
   ],
   "source": [
    "#q6\n",
    "\n",
    "fastest_mph = 0\n",
    "\n",
    "for i in range(project.count()):\n",
    "    if project.get_mph(i) > fastest_mph :\n",
    "        fastest_mph = project.get_mph(i)\n",
    "\n",
    "fastest_mph"
   ]
  },
  {
   "cell_type": "code",
   "execution_count": 10,
   "metadata": {},
   "outputs": [],
   "source": [
    "\n",
    "def get_index_for_fastest_hurr():\n",
    "    fastest_index = 0\n",
    "    fastest_mph = 0\n",
    "    for i in range(project.count()):\n",
    "        if project.get_mph(i) > fastest_mph :\n",
    "            fastest_mph = project.get_mph(i)\n",
    "            fastest_index = i\n",
    "    return fastest_index"
   ]
  },
  {
   "cell_type": "code",
   "execution_count": 11,
   "metadata": {},
   "outputs": [
    {
     "data": {
      "text/plain": [
       "'Allen'"
      ]
     },
     "execution_count": 11,
     "metadata": {},
     "output_type": "execute_result"
    }
   ],
   "source": [
    "#q7\n",
    "project.get_name(get_index_for_fastest_hurr())"
   ]
  },
  {
   "cell_type": "code",
   "execution_count": 12,
   "metadata": {},
   "outputs": [
    {
     "data": {
      "text/plain": [
       "'13.5M'"
      ]
     },
     "execution_count": 12,
     "metadata": {},
     "output_type": "execute_result"
    }
   ],
   "source": [
    "\n",
    "\n",
    "def get_index_for_dolphin():\n",
    "    for i in range(project.count()):\n",
    "        if project.get_name(i) == \"Dolphin\":\n",
    "            return project.get_damage(i)\n",
    "        \n",
    "get_index_for_dolphin()"
   ]
  },
  {
   "cell_type": "code",
   "execution_count": 13,
   "metadata": {},
   "outputs": [
    {
     "data": {
      "text/plain": [
       "13500000"
      ]
     },
     "execution_count": 13,
     "metadata": {},
     "output_type": "execute_result"
    }
   ],
   "source": [
    "#q8\n",
    "def convert(x):\n",
    "     if x.endswith(\"M\"):   \n",
    "        y=float(x[0:-1]) * 1000000\n",
    "        return(int(y))\n",
    "     if x.endswith(\"B\"):\n",
    "        y=float(x[0:-1]) * 1000000000\n",
    "        return(int(y))\n",
    "     if x.endswith(\"K\"):\n",
    "        y=float(x[0:-1]) * 1000\n",
    "        return(int(y))\n",
    "       \n",
    "convert(get_index_for_dolphin())        "
   ]
  },
  {
   "cell_type": "code",
   "execution_count": 14,
   "metadata": {},
   "outputs": [
    {
     "data": {
      "text/plain": [
       "18959"
      ]
     },
     "execution_count": 14,
     "metadata": {},
     "output_type": "execute_result"
    }
   ],
   "source": [
    "#q9\n",
    "total_deaths = 0\n",
    "for i in range(project.count()):\n",
    "    if project.get_deaths(i) > 0:\n",
    "        total_deaths += project.get_deaths(i)\n",
    "            \n",
    "total_deaths\n",
    "        \n",
    "    "
   ]
  },
  {
   "cell_type": "code",
   "execution_count": 15,
   "metadata": {},
   "outputs": [],
   "source": [
    "def get_month(date):\n",
    "    return int(date[:2])\n",
    "\n",
    "def get_day(date):\n",
    "    return int(date[3:5])\n",
    "\n",
    "def get_year(date):\n",
    "    return int(date[6:10])"
   ]
  },
  {
   "cell_type": "code",
   "execution_count": 16,
   "metadata": {},
   "outputs": [],
   "source": [
    "\n",
    "# return index of deadliest hurricane over the given date range\n",
    "\n",
    "\n",
    "def deadliest_in_range(year1, year2):\n",
    "    worst_idx = None\n",
    "    for i in range(project.count()):\n",
    "        if get_year(project.get_formed(i)) <= year2:\n",
    "            if get_year(project.get_formed(i)) >= year1:\n",
    "                if worst_idx == None or project.get_deaths(i) > project.get_deaths(worst_idx):\n",
    "                    worst_idx = i\n",
    "    return project.get_name(worst_idx)"
   ]
  },
  {
   "cell_type": "code",
   "execution_count": 17,
   "metadata": {},
   "outputs": [
    {
     "data": {
      "text/plain": [
       "'Maria'"
      ]
     },
     "execution_count": 17,
     "metadata": {},
     "output_type": "execute_result"
    }
   ],
   "source": [
    "#q10\n",
    "deadliest_in_range(2010, 2019)"
   ]
  },
  {
   "cell_type": "code",
   "execution_count": 18,
   "metadata": {},
   "outputs": [
    {
     "data": {
      "text/plain": [
       "'Inez'"
      ]
     },
     "execution_count": 18,
     "metadata": {},
     "output_type": "execute_result"
    }
   ],
   "source": [
    "#q11\n",
    "deadliest_in_range(1901, 2000)"
   ]
  },
  {
   "cell_type": "code",
   "execution_count": 19,
   "metadata": {},
   "outputs": [
    {
     "data": {
      "text/plain": [
       "1899"
      ]
     },
     "execution_count": 19,
     "metadata": {},
     "output_type": "execute_result"
    }
   ],
   "source": [
    "#q12\n",
    "\n",
    "def get_index_for_dealiest_hurricane():\n",
    "    worst_idx = None\n",
    "    for i in range(project.count()):\n",
    "        if worst_idx == None or project.get_deaths(i) > project.get_deaths(worst_idx):\n",
    "            worst_idx = i\n",
    "    return get_year(project.get_formed(worst_idx))\n",
    "get_index_for_dealiest_hurricane()   \n"
   ]
  },
  {
   "cell_type": "code",
   "execution_count": 20,
   "metadata": {},
   "outputs": [
    {
     "data": {
      "text/plain": [
       "226500000"
      ]
     },
     "execution_count": 20,
     "metadata": {},
     "output_type": "execute_result"
    }
   ],
   "source": [
    "#q13\n",
    "\n",
    "def dealiest_hurricane_dollar_damage(year1, year2):\n",
    "    worst_idx = None\n",
    "    for i in range(project.count()):\n",
    "        if get_year(project.get_formed(i)) <= year2:\n",
    "            if get_year(project.get_formed(i)) >= year1:\n",
    "                if worst_idx == None or project.get_deaths(i) > project.get_deaths(worst_idx):\n",
    "                    worst_idx = i\n",
    "    return project.get_damage(worst_idx)\n",
    "convert(dealiest_hurricane_dollar_damage(1901, 2000))"
   ]
  },
  {
   "cell_type": "code",
   "execution_count": 21,
   "metadata": {},
   "outputs": [
    {
     "data": {
      "text/plain": [
       "864230464997"
      ]
     },
     "execution_count": 21,
     "metadata": {},
     "output_type": "execute_result"
    }
   ],
   "source": [
    "#q14\n",
    "def total_damages():\n",
    "    total = 0\n",
    "    for i in range(project.count()):\n",
    "        total += convert(project.get_damage(i))\n",
    "    return total\n",
    "total_damages()"
   ]
  },
  {
   "cell_type": "code",
   "execution_count": 22,
   "metadata": {},
   "outputs": [
    {
     "data": {
      "text/plain": [
       "17"
      ]
     },
     "execution_count": 22,
     "metadata": {},
     "output_type": "execute_result"
    }
   ],
   "source": [
    "#q15\n",
    "# return number of huricanes formed in month mm\n",
    "def hurricanes_in_month(mm):\n",
    "    num_of_hurricanes = 0\n",
    "    for i in range(project.count()):\n",
    "         if get_month(project.get_formed(i)) == mm:\n",
    "            num_of_hurricanes += 1\n",
    "    return num_of_hurricanes\n",
    "\n",
    "hurricanes_in_month(7)"
   ]
  },
  {
   "cell_type": "code",
   "execution_count": 23,
   "metadata": {},
   "outputs": [
    {
     "data": {
      "text/plain": [
       "3"
      ]
     },
     "execution_count": 23,
     "metadata": {},
     "output_type": "execute_result"
    }
   ],
   "source": [
    "#q16\n",
    "hurricanes_in_month(12)"
   ]
  },
  {
   "cell_type": "code",
   "execution_count": 24,
   "metadata": {},
   "outputs": [
    {
     "data": {
      "text/plain": [
       "3"
      ]
     },
     "execution_count": 24,
     "metadata": {},
     "output_type": "execute_result"
    }
   ],
   "source": [
    "#q17\n",
    "hurricanes_in_month(1)"
   ]
  },
  {
   "cell_type": "code",
   "execution_count": 25,
   "metadata": {},
   "outputs": [
    {
     "data": {
      "text/plain": [
       "2"
      ]
     },
     "execution_count": 25,
     "metadata": {},
     "output_type": "execute_result"
    }
   ],
   "source": [
    "#q18\n",
    "hurricanes_in_month(5)"
   ]
  },
  {
   "cell_type": "code",
   "execution_count": 26,
   "metadata": {},
   "outputs": [
    {
     "data": {
      "text/plain": [
       "9"
      ]
     },
     "execution_count": 26,
     "metadata": {},
     "output_type": "execute_result"
    }
   ],
   "source": [
    "#q19\n",
    "def most_hurricanes_formed():\n",
    "    most_formed = 0\n",
    "    for i in range(project.count()):\n",
    "        if hurricanes_in_month(i) > most_formed:\n",
    "            most_formed = hurricanes_in_month(i)\n",
    "            month = get_month(get_formed(most_formed))\n",
    "    return month\n",
    "\n",
    "most_hurricanes_formed()\n",
    "            "
   ]
  },
  {
   "cell_type": "code",
   "execution_count": 27,
   "metadata": {},
   "outputs": [
    {
     "data": {
      "text/plain": [
       "10"
      ]
     },
     "execution_count": 27,
     "metadata": {},
     "output_type": "execute_result"
    }
   ],
   "source": [
    "#q20\n",
    "def more_than_four():\n",
    "    count = 0\n",
    "    for i in range(1, 2020):\n",
    "        years = 0\n",
    "#        print(i)\n",
    "        for j in range(project.count()):\n",
    "            yr = get_year(project.get_formed(j))\n",
    "            if i== yr:\n",
    "                years += 1\n",
    "    \n",
    "        if years >= 4:\n",
    "            count += 1 \n",
    "    return count\n",
    "                \n",
    "                \n",
    "#         yr = (get_year(project.get_formed(i)))\n",
    "#         if yr >= 4:\n",
    "#             years += 1\n",
    "        \n",
    "        \n",
    "\n",
    "more_than_four()"
   ]
  }
 ],
 "metadata": {
  "kernelspec": {
   "display_name": "Python 3",
   "language": "python",
   "name": "python3"
  },
  "language_info": {
   "codemirror_mode": {
    "name": "ipython",
    "version": 3
   },
   "file_extension": ".py",
   "mimetype": "text/x-python",
   "name": "python",
   "nbconvert_exporter": "python",
   "pygments_lexer": "ipython3",
   "version": "3.7.4"
  }
 },
 "nbformat": 4,
 "nbformat_minor": 2
}
